{
 "cells": [
  {
   "cell_type": "markdown",
   "metadata": {
    "id": "GxN1ZBoeZGwm"
   },
   "source": [
    "# SET UP"
   ]
  },
  {
   "cell_type": "code",
   "execution_count": 1,
   "metadata": {},
   "outputs": [
    {
     "name": "stderr",
     "output_type": "stream",
     "text": [
      "2023-01-28 17:16:11.714776: W tensorflow/compiler/xla/stream_executor/platform/default/dso_loader.cc:64] Could not load dynamic library 'libnvinfer.so.7'; dlerror: libnvinfer.so.7: cannot open shared object file: No such file or directory; LD_LIBRARY_PATH: /usr/local/nvidia/lib:/usr/local/nvidia/lib64\n",
      "2023-01-28 17:16:11.714856: W tensorflow/compiler/xla/stream_executor/platform/default/dso_loader.cc:64] Could not load dynamic library 'libnvinfer_plugin.so.7'; dlerror: libnvinfer_plugin.so.7: cannot open shared object file: No such file or directory; LD_LIBRARY_PATH: /usr/local/nvidia/lib:/usr/local/nvidia/lib64\n",
      "2023-01-28 17:16:11.714864: W tensorflow/compiler/tf2tensorrt/utils/py_utils.cc:38] TF-TRT Warning: Cannot dlopen some TensorRT libraries. If you would like to use Nvidia GPU with TensorRT, please make sure the missing libraries mentioned above are installed properly.\n"
     ]
    }
   ],
   "source": [
    "### Import packages\n",
    "import os\n",
    "import numpy as np\n",
    "import pandas as pd\n",
    "import matplotlib.pyplot as plt\n",
    "import seaborn as sns\n",
    "import contractions\n",
    "import emoji\n",
    "import spacy\n",
    "from sklearn.model_selection import train_test_split\n",
    "from transformers import AutoTokenizer, TFBertModel\n",
    "import tensorflow as tf\n",
    "from tensorflow.keras import Input, Model\n",
    "from tensorflow.keras.layers import Dense, GlobalAveragePooling1D\n",
    "from tensorflow.keras.optimizers import Adam\n",
    "from tensorflow.keras.callbacks import EarlyStopping, ModelCheckpoint"
   ]
  },
  {
   "cell_type": "code",
   "execution_count": 2,
   "metadata": {},
   "outputs": [
    {
     "name": "stdout",
     "output_type": "stream",
     "text": [
      "['tagger', 'attribute_ruler', 'lemmatizer']\n"
     ]
    }
   ],
   "source": [
    "### Load spaCy pipeline\n",
    "nlp = spacy.load(\"en_core_web_sm\", disable = [\"tok2vec\", \"parser\", \"ner\"])\n",
    "print(nlp.pipe_names)"
   ]
  },
  {
   "cell_type": "code",
   "execution_count": 3,
   "metadata": {},
   "outputs": [],
   "source": [
    "### Set Seaborn settings\n",
    "sns.set_theme(style = \"darkgrid\", rc = {\"figure.figsize\": (12, 4)})"
   ]
  },
  {
   "cell_type": "code",
   "execution_count": 4,
   "metadata": {},
   "outputs": [],
   "source": [
    "### Turn TensorFlow warnings off\n",
    "tf.get_logger().setLevel(\"ERROR\")"
   ]
  },
  {
   "cell_type": "markdown",
   "metadata": {
    "id": "CGYYbq7Q6B-A"
   },
   "source": [
    "# LOAD DATA"
   ]
  },
  {
   "cell_type": "code",
   "execution_count": null,
   "metadata": {
    "id": "nvA2MgSnptWs"
   },
   "outputs": [],
   "source": [
    "### Create a kaggle directory and move the kaggle.json to it\n",
    "!mkdir ~/.kaggle\n",
    "!cp kaggle.json ~/.kaggle/\n",
    "!chmod 600 ~/.kaggle/kaggle.json"
   ]
  },
  {
   "cell_type": "code",
   "execution_count": null,
   "metadata": {
    "colab": {
     "base_uri": "https://localhost:8080/"
    },
    "executionInfo": {
     "elapsed": 19892,
     "status": "ok",
     "timestamp": 1673879866494,
     "user": {
      "displayName": "Judy Du",
      "userId": "10405767780800650435"
     },
     "user_tz": 300
    },
    "id": "dYxV71lGihC2",
    "outputId": "def82c66-37ef-4f47-ed79-d65d298e6adb"
   },
   "outputs": [
    {
     "name": "stdout",
     "output_type": "stream",
     "text": [
      "Downloading all_data.csv.zip to /content\n",
      "100% 326M/326M [00:16<00:00, 22.9MB/s]\n",
      "100% 326M/326M [00:16<00:00, 20.2MB/s]\n"
     ]
    }
   ],
   "source": [
    "### Download dataset file\n",
    "!kaggle competitions download jigsaw-unintended-bias-in-toxicity-classification -f all_data.csv"
   ]
  },
  {
   "cell_type": "code",
   "execution_count": null,
   "metadata": {
    "colab": {
     "base_uri": "https://localhost:8080/"
    },
    "executionInfo": {
     "elapsed": 8934,
     "status": "ok",
     "timestamp": 1673879875387,
     "user": {
      "displayName": "Judy Du",
      "userId": "10405767780800650435"
     },
     "user_tz": 300
    },
    "id": "EyAsw4gAqyaA",
    "outputId": "c70a9955-c361-4f28-93a0-28ecd022e058"
   },
   "outputs": [
    {
     "name": "stdout",
     "output_type": "stream",
     "text": [
      "Archive:  all_data.csv.zip\n",
      "  inflating: data/all_data.csv       \n"
     ]
    }
   ],
   "source": [
    "### Create data directory and unzip the dataset file\n",
    "!mkdir data\n",
    "!unzip all_data.csv.zip -d data"
   ]
  },
  {
   "cell_type": "code",
   "execution_count": null,
   "metadata": {
    "colab": {
     "base_uri": "https://localhost:8080/"
    },
    "executionInfo": {
     "elapsed": 15205,
     "status": "ok",
     "timestamp": 1673879890565,
     "user": {
      "displayName": "Judy Du",
      "userId": "10405767780800650435"
     },
     "user_tz": 300
    },
    "id": "KtbRS0W5rQoh",
    "outputId": "3487ba7d-94de-4b7b-c603-f5417cc71df6"
   },
   "outputs": [
    {
     "name": "stdout",
     "output_type": "stream",
     "text": [
      "<class 'pandas.core.frame.DataFrame'>\n",
      "RangeIndex: 1999516 entries, 0 to 1999515\n",
      "Data columns (total 46 columns):\n",
      " #   Column                               Dtype  \n",
      "---  ------                               -----  \n",
      " 0   id                                   int64  \n",
      " 1   comment_text                         object \n",
      " 2   split                                object \n",
      " 3   created_date                         object \n",
      " 4   publication_id                       int64  \n",
      " 5   parent_id                            float64\n",
      " 6   article_id                           int64  \n",
      " 7   rating                               object \n",
      " 8   funny                                int64  \n",
      " 9   wow                                  int64  \n",
      " 10  sad                                  int64  \n",
      " 11  likes                                int64  \n",
      " 12  disagree                             int64  \n",
      " 13  toxicity                             float64\n",
      " 14  severe_toxicity                      float64\n",
      " 15  obscene                              float64\n",
      " 16  sexual_explicit                      float64\n",
      " 17  identity_attack                      float64\n",
      " 18  insult                               float64\n",
      " 19  threat                               float64\n",
      " 20  male                                 float64\n",
      " 21  female                               float64\n",
      " 22  transgender                          float64\n",
      " 23  other_gender                         float64\n",
      " 24  heterosexual                         float64\n",
      " 25  homosexual_gay_or_lesbian            float64\n",
      " 26  bisexual                             float64\n",
      " 27  other_sexual_orientation             float64\n",
      " 28  christian                            float64\n",
      " 29  jewish                               float64\n",
      " 30  muslim                               float64\n",
      " 31  hindu                                float64\n",
      " 32  buddhist                             float64\n",
      " 33  atheist                              float64\n",
      " 34  other_religion                       float64\n",
      " 35  black                                float64\n",
      " 36  white                                float64\n",
      " 37  asian                                float64\n",
      " 38  latino                               float64\n",
      " 39  other_race_or_ethnicity              float64\n",
      " 40  physical_disability                  float64\n",
      " 41  intellectual_or_learning_disability  float64\n",
      " 42  psychiatric_or_mental_illness        float64\n",
      " 43  other_disability                     float64\n",
      " 44  identity_annotator_count             int64  \n",
      " 45  toxicity_annotator_count             int64  \n",
      "dtypes: float64(32), int64(10), object(4)\n",
      "memory usage: 701.7+ MB\n",
      "None\n"
     ]
    }
   ],
   "source": [
    "### Import dataset as a DataFrame\n",
    "raw_df = pd.read_csv(\"data/all_data.csv\")\n",
    "print(raw_df.info())"
   ]
  },
  {
   "cell_type": "markdown",
   "metadata": {
    "id": "k-MNgTRrRhSK"
   },
   "source": [
    "# TRANSFORM DATA"
   ]
  },
  {
   "cell_type": "code",
   "execution_count": 6,
   "metadata": {
    "colab": {
     "base_uri": "https://localhost:8080/"
    },
    "executionInfo": {
     "elapsed": 47,
     "status": "ok",
     "timestamp": 1673879890566,
     "user": {
      "displayName": "Judy Du",
      "userId": "10405767780800650435"
     },
     "user_tz": 300
    },
    "id": "QZ_MMSeiRr_h",
    "outputId": "969747f0-5132-4131-b571-0d917e2dd1fa"
   },
   "outputs": [
    {
     "name": "stdout",
     "output_type": "stream",
     "text": [
      "Index(['id', 'comment_text', 'split', 'created_date', 'publication_id',\n",
      "       'parent_id', 'article_id', 'rating', 'funny', 'wow', 'sad', 'likes',\n",
      "       'disagree', 'toxicity', 'severe_toxicity', 'obscene', 'sexual_explicit',\n",
      "       'identity_attack', 'insult', 'threat', 'male', 'female', 'transgender',\n",
      "       'other_gender', 'heterosexual', 'homosexual_gay_or_lesbian', 'bisexual',\n",
      "       'other_sexual_orientation', 'christian', 'jewish', 'muslim', 'hindu',\n",
      "       'buddhist', 'atheist', 'other_religion', 'black', 'white', 'asian',\n",
      "       'latino', 'other_race_or_ethnicity', 'physical_disability',\n",
      "       'intellectual_or_learning_disability', 'psychiatric_or_mental_illness',\n",
      "       'other_disability', 'identity_annotator_count',\n",
      "       'toxicity_annotator_count'],\n",
      "      dtype='object')\n"
     ]
    }
   ],
   "source": [
    "### View columns\n",
    "print(raw_df.columns)"
   ]
  },
  {
   "cell_type": "code",
   "execution_count": 7,
   "metadata": {
    "id": "nKtroPP4IzFD"
   },
   "outputs": [],
   "source": [
    "### Change data type\n",
    "raw_df[\"created_date\"] = pd.to_datetime(raw_df[\"created_date\"], format = \"%Y-%m-%d\")\n",
    "raw_df[\"created_date\"] = raw_df[\"created_date\"].dt.date"
   ]
  },
  {
   "cell_type": "code",
   "execution_count": 8,
   "metadata": {
    "colab": {
     "base_uri": "https://localhost:8080/",
     "height": 206
    },
    "executionInfo": {
     "elapsed": 21,
     "status": "ok",
     "timestamp": 1673879892870,
     "user": {
      "displayName": "Judy Du",
      "userId": "10405767780800650435"
     },
     "user_tz": 300
    },
    "id": "T4DoMWPTRiwD",
    "outputId": "4756c838-2402-4ff7-f8be-65589d2e21f1"
   },
   "outputs": [
    {
     "data": {
      "text/html": [
       "<div>\n",
       "<style scoped>\n",
       "    .dataframe tbody tr th:only-of-type {\n",
       "        vertical-align: middle;\n",
       "    }\n",
       "\n",
       "    .dataframe tbody tr th {\n",
       "        vertical-align: top;\n",
       "    }\n",
       "\n",
       "    .dataframe thead th {\n",
       "        text-align: right;\n",
       "    }\n",
       "</style>\n",
       "<table border=\"1\" class=\"dataframe\">\n",
       "  <thead>\n",
       "    <tr style=\"text-align: right;\">\n",
       "      <th></th>\n",
       "      <th>created_date</th>\n",
       "      <th>comment_text</th>\n",
       "      <th>toxicity</th>\n",
       "      <th>severe_toxicity</th>\n",
       "      <th>obscene</th>\n",
       "      <th>sexual_explicit</th>\n",
       "      <th>identity_attack</th>\n",
       "      <th>insult</th>\n",
       "      <th>threat</th>\n",
       "    </tr>\n",
       "  </thead>\n",
       "  <tbody>\n",
       "    <tr>\n",
       "      <th>0</th>\n",
       "      <td>2017-03-06</td>\n",
       "      <td>He got his money... now he lies in wait till a...</td>\n",
       "      <td>0.373134</td>\n",
       "      <td>0.044776</td>\n",
       "      <td>0.089552</td>\n",
       "      <td>0.014925</td>\n",
       "      <td>0.000000</td>\n",
       "      <td>0.343284</td>\n",
       "      <td>0.014925</td>\n",
       "    </tr>\n",
       "    <tr>\n",
       "      <th>1</th>\n",
       "      <td>2016-12-02</td>\n",
       "      <td>Mad dog will surely put the liberals in mental...</td>\n",
       "      <td>0.605263</td>\n",
       "      <td>0.013158</td>\n",
       "      <td>0.065789</td>\n",
       "      <td>0.013158</td>\n",
       "      <td>0.092105</td>\n",
       "      <td>0.565789</td>\n",
       "      <td>0.065789</td>\n",
       "    </tr>\n",
       "    <tr>\n",
       "      <th>2</th>\n",
       "      <td>2017-09-05</td>\n",
       "      <td>And Trump continues his lifelong cowardice by ...</td>\n",
       "      <td>0.666667</td>\n",
       "      <td>0.015873</td>\n",
       "      <td>0.031746</td>\n",
       "      <td>0.000000</td>\n",
       "      <td>0.047619</td>\n",
       "      <td>0.666667</td>\n",
       "      <td>0.000000</td>\n",
       "    </tr>\n",
       "    <tr>\n",
       "      <th>3</th>\n",
       "      <td>2016-11-01</td>\n",
       "      <td>\"while arresting a man for resisting arrest\".\\...</td>\n",
       "      <td>0.815789</td>\n",
       "      <td>0.065789</td>\n",
       "      <td>0.552632</td>\n",
       "      <td>0.592105</td>\n",
       "      <td>0.000000</td>\n",
       "      <td>0.684211</td>\n",
       "      <td>0.105263</td>\n",
       "    </tr>\n",
       "    <tr>\n",
       "      <th>4</th>\n",
       "      <td>2017-06-14</td>\n",
       "      <td>Tucker and Paul are both total bad ass mofo's.</td>\n",
       "      <td>0.550000</td>\n",
       "      <td>0.037500</td>\n",
       "      <td>0.337500</td>\n",
       "      <td>0.275000</td>\n",
       "      <td>0.037500</td>\n",
       "      <td>0.487500</td>\n",
       "      <td>0.000000</td>\n",
       "    </tr>\n",
       "  </tbody>\n",
       "</table>\n",
       "</div>"
      ],
      "text/plain": [
       "  created_date                                       comment_text  toxicity  \\\n",
       "0   2017-03-06  He got his money... now he lies in wait till a...  0.373134   \n",
       "1   2016-12-02  Mad dog will surely put the liberals in mental...  0.605263   \n",
       "2   2017-09-05  And Trump continues his lifelong cowardice by ...  0.666667   \n",
       "3   2016-11-01  \"while arresting a man for resisting arrest\".\\...  0.815789   \n",
       "4   2017-06-14     Tucker and Paul are both total bad ass mofo's.  0.550000   \n",
       "\n",
       "   severe_toxicity   obscene  sexual_explicit  identity_attack    insult  \\\n",
       "0         0.044776  0.089552         0.014925         0.000000  0.343284   \n",
       "1         0.013158  0.065789         0.013158         0.092105  0.565789   \n",
       "2         0.015873  0.031746         0.000000         0.047619  0.666667   \n",
       "3         0.065789  0.552632         0.592105         0.000000  0.684211   \n",
       "4         0.037500  0.337500         0.275000         0.037500  0.487500   \n",
       "\n",
       "     threat  \n",
       "0  0.014925  \n",
       "1  0.065789  \n",
       "2  0.000000  \n",
       "3  0.105263  \n",
       "4  0.000000  "
      ]
     },
     "execution_count": 8,
     "metadata": {},
     "output_type": "execute_result"
    }
   ],
   "source": [
    "### Keep columns of interest\n",
    "df = raw_df[[\"created_date\", \"comment_text\", \"toxicity\", \"severe_toxicity\", \"obscene\", \"sexual_explicit\", \"identity_attack\", \"insult\", \"threat\"]].copy()\n",
    "df.head()"
   ]
  },
  {
   "cell_type": "code",
   "execution_count": 9,
   "metadata": {
    "id": "b-uvevBDocrh"
   },
   "outputs": [],
   "source": [
    "### Drop duplicate comments\n",
    "df.drop_duplicates(keep = \"first\", inplace = True)"
   ]
  },
  {
   "cell_type": "code",
   "execution_count": 10,
   "metadata": {
    "id": "znqvqqRepLzq"
   },
   "outputs": [],
   "source": [
    "### Drop blank comments\n",
    "df = df[~df[\"comment_text\"].isnull()]"
   ]
  },
  {
   "cell_type": "code",
   "execution_count": 11,
   "metadata": {
    "colab": {
     "base_uri": "https://localhost:8080/"
    },
    "executionInfo": {
     "elapsed": 431,
     "status": "ok",
     "timestamp": 1673879895549,
     "user": {
      "displayName": "Judy Du",
      "userId": "10405767780800650435"
     },
     "user_tz": 300
    },
    "id": "qfEUJw69SIWv",
    "outputId": "765ec10f-b21a-4c27-fc52-c68663f3bfc3"
   },
   "outputs": [
    {
     "name": "stdout",
     "output_type": "stream",
     "text": [
      "created_date       False\n",
      "comment_text       False\n",
      "toxicity           False\n",
      "severe_toxicity    False\n",
      "obscene            False\n",
      "sexual_explicit    False\n",
      "identity_attack    False\n",
      "insult             False\n",
      "threat             False\n",
      "dtype: bool\n"
     ]
    }
   ],
   "source": [
    "### Check if there are any columns with missing values\n",
    "print(df.isnull().any())"
   ]
  },
  {
   "cell_type": "code",
   "execution_count": null,
   "metadata": {
    "id": "rZlL9fRLrjCX"
   },
   "outputs": [],
   "source": [
    "def create_indicators(df, column_list):\n",
    "    \"\"\"\n",
    "    Creates columns that indicate whether the comment is toxic\n",
    "    column_list: list containing the toxic subtype attributes to create indicators for\n",
    "    \"\"\"\n",
    "    # Determine whether the comment is toxic (threhold is 0.5)\n",
    "    df[\"toxic_ind\"] = np.where(df[\"toxicity\"] >= 0.5, 1, 0)\n",
    "\n",
    "    # Determine whether the comment is toxic by subtype (threhold is 0.5)\n",
    "    for col in column_list:\n",
    "        col_ind = col + \"_ind\"\n",
    "        df[col_ind] = np.where(df[col] >= 0.5, 1, 0)\n",
    "        df[\"toxic_subtype_ind\"] = np.where(df.iloc[:, -len(columns):].sum(axis = 1) >= 0.5, 1, 0)\n"
   ]
  },
  {
   "cell_type": "code",
   "execution_count": null,
   "metadata": {
    "id": "xnirwJ4fr5iU"
   },
   "outputs": [],
   "source": [
    "toxic_subtype_list = [\"severe_toxicity\", \"obscene\", \"sexual_explicit\", \"identity_attack\", \"insult\", \"threat\"]\n",
    "create_indicators(df, column_list = toxic_subtype_list)"
   ]
  },
  {
   "cell_type": "code",
   "execution_count": null,
   "metadata": {
    "colab": {
     "base_uri": "https://localhost:8080/"
    },
    "executionInfo": {
     "elapsed": 11,
     "status": "ok",
     "timestamp": 1673879895552,
     "user": {
      "displayName": "Judy Du",
      "userId": "10405767780800650435"
     },
     "user_tz": 300
    },
    "id": "pek82GDKmv7I",
    "outputId": "3a9d73a3-31a5-48fb-fd0a-e76ab4cd96c6"
   },
   "outputs": [
    {
     "name": "stdout",
     "output_type": "stream",
     "text": [
      "Index(['created_date', 'comment_text', 'toxicity', 'severe_toxicity',\n",
      "       'obscene', 'sexual_explicit', 'identity_attack', 'insult', 'threat',\n",
      "       'toxic_ind', 'severe_toxicity_ind', 'obscene_ind',\n",
      "       'sexual_explicit_ind', 'identity_attack_ind', 'insult_ind',\n",
      "       'threat_ind', 'toxic_subtype_ind'],\n",
      "      dtype='object')\n"
     ]
    }
   ],
   "source": [
    "### View columns\n",
    "print(df.columns)"
   ]
  },
  {
   "cell_type": "code",
   "execution_count": null,
   "metadata": {
    "id": "5a0-8NGkUx2K"
   },
   "outputs": [],
   "source": [
    "def clean_text(df, text_column):\n",
    "    \"\"\"Pre-processings the text column\n",
    "    text_column: name of text column to pre-process\n",
    "    \"\"\"\n",
    "    new_column = str(text_column) + \"_cleaned\"\n",
    "\n",
    "    # Pre-processes the column, removing contractions, coverting emojis, \n",
    "    # removing extra spaces, and lemmatizing tokens\n",
    "    df[new_column] = df[text_column].apply(lambda x: contractions.fix(x))\n",
    "    df[new_column] = df[new_column].apply(lambda x: emoji.demojize(x))\n",
    "    df[new_column] = df[new_column].str.replace(\"[^a-zA-Z0-9]+\", \" \", regex = True)\n",
    "    df[new_column] = df[new_column].str.replace(\"\\d\", \"\", regex = True)\n",
    "    df[new_column] = df[new_column].apply(lambda x: \" \".join(x.split()))\n",
    "    df[new_column] = df[new_column].str.lower()\n",
    "    df[new_column] = df[new_column].apply(lambda x: \" \".join([t.lemma_ for t in nlp(x)]))"
   ]
  },
  {
   "cell_type": "code",
   "execution_count": null,
   "metadata": {
    "id": "XGlV-hODVixe"
   },
   "outputs": [],
   "source": [
    "clean_text(df, text_column = \"comment_text\")"
   ]
  },
  {
   "cell_type": "code",
   "execution_count": null,
   "metadata": {},
   "outputs": [],
   "source": [
    "### Save DataFrame\n",
    "df.to_csv(\"Data/data_cleaned.csv\", encoding = \"utf-8-sig\", index = False)"
   ]
  },
  {
   "cell_type": "markdown",
   "metadata": {
    "id": "1bZHpzUTSlHh"
   },
   "source": [
    "# EDA"
   ]
  },
  {
   "cell_type": "code",
   "execution_count": 5,
   "metadata": {},
   "outputs": [
    {
     "name": "stdout",
     "output_type": "stream",
     "text": [
      "<class 'pandas.core.frame.DataFrame'>\n",
      "RangeIndex: 1993590 entries, 0 to 1993589\n",
      "Data columns (total 19 columns):\n",
      " #   Column                Dtype         \n",
      "---  ------                -----         \n",
      " 0   Unnamed: 0            int64         \n",
      " 1   created_date          datetime64[ns]\n",
      " 2   comment_text          object        \n",
      " 3   toxicity              float64       \n",
      " 4   severe_toxicity       float64       \n",
      " 5   obscene               float64       \n",
      " 6   sexual_explicit       float64       \n",
      " 7   identity_attack       float64       \n",
      " 8   insult                float64       \n",
      " 9   threat                float64       \n",
      " 10  toxic_ind             int64         \n",
      " 11  severe_toxicity_ind   int64         \n",
      " 12  obscene_ind           int64         \n",
      " 13  sexual_explicit_ind   int64         \n",
      " 14  identity_attack_ind   int64         \n",
      " 15  insult_ind            int64         \n",
      " 16  threat_ind            int64         \n",
      " 17  toxic_subtype_ind     int64         \n",
      " 18  comment_text_cleaned  object        \n",
      "dtypes: datetime64[ns](1), float64(7), int64(9), object(2)\n",
      "memory usage: 289.0+ MB\n",
      "None\n"
     ]
    }
   ],
   "source": [
    "### Import DataFrame\n",
    "df = pd.read_csv(\"Data/data_cleaned.csv\", encoding = \"utf-8-sig\")\n",
    "df[\"created_date\"] = pd.to_datetime(df[\"created_date\"], format = \"%Y-%m-%d\")\n",
    "print(df.info())"
   ]
  },
  {
   "cell_type": "code",
   "execution_count": 6,
   "metadata": {
    "colab": {
     "base_uri": "https://localhost:8080/"
    },
    "executionInfo": {
     "elapsed": 6,
     "status": "ok",
     "timestamp": 1673834932820,
     "user": {
      "displayName": "Judy Du",
      "userId": "10405767780800650435"
     },
     "user_tz": 300
    },
    "id": "GJxv5Y_lFmQ9",
    "outputId": "31dbcb46-a871-439e-a856-1b77ca4b868b"
   },
   "outputs": [
    {
     "name": "stdout",
     "output_type": "stream",
     "text": [
      "he got his money now he lies in wait till after the election in yrs dirty politicians need to be afraid of tar and feathers again but they are not and so the people get screwed\n",
      "\n",
      "mad dog will surely put the liberals in mental hospitals boorah\n",
      "\n",
      "and trump continues his lifelong cowardice by not making this announcement himself what an awful human being\n",
      "\n",
      "while arresting a man for resisting arrest if you cop suckers can not see a problem with this then go suck the barrel of a glock\n",
      "\n",
      "tucker and paul are both total bad ass mofo s\n",
      "\n",
      "cry me a river why do not you drinking drugs dressing like a ho bad recipe for disaster\n",
      "\n",
      "i really wish the dp would bounce people trying to make a moral equivalence between nazis and blm that kind of hateful bothsiderist garbage had got to stop it is not even funny any more actual nazis are marching in this country and killing people and the response of some is but the blahs and the dp allows such posts to stay up and the posters to continue posting ugly\n",
      "\n",
      "that is child abuse\n",
      "\n",
      "that is right they are not normal and i am starting from the premise that they are abnormal proceed wth the typical racist bigot sexist rubbish thanks\n",
      "\n",
      "only a fool would believe that the msm is not biased against this president\n",
      "\n"
     ]
    }
   ],
   "source": [
    "### Print out a few cleaned comments\n",
    "for i in df[\"comment_text_cleaned\"].tolist()[0:10]:\n",
    "  print(i + \"\\n\")"
   ]
  },
  {
   "cell_type": "code",
   "execution_count": 7,
   "metadata": {
    "colab": {
     "base_uri": "https://localhost:8080/",
     "height": 300
    },
    "executionInfo": {
     "elapsed": 1791,
     "status": "ok",
     "timestamp": 1673880007729,
     "user": {
      "displayName": "Judy Du",
      "userId": "10405767780800650435"
     },
     "user_tz": 300
    },
    "id": "NpsMZbP2aZys",
    "outputId": "db7d20b1-a3ba-47d8-a23d-ec1a37a6f2d4"
   },
   "outputs": [
    {
     "data": {
      "text/html": [
       "<div>\n",
       "<style scoped>\n",
       "    .dataframe tbody tr th:only-of-type {\n",
       "        vertical-align: middle;\n",
       "    }\n",
       "\n",
       "    .dataframe tbody tr th {\n",
       "        vertical-align: top;\n",
       "    }\n",
       "\n",
       "    .dataframe thead th {\n",
       "        text-align: right;\n",
       "    }\n",
       "</style>\n",
       "<table border=\"1\" class=\"dataframe\">\n",
       "  <thead>\n",
       "    <tr style=\"text-align: right;\">\n",
       "      <th></th>\n",
       "      <th>created_date</th>\n",
       "      <th>severe_toxicity</th>\n",
       "      <th>obscene</th>\n",
       "      <th>sexual_explicit</th>\n",
       "      <th>identity_attack</th>\n",
       "      <th>insult</th>\n",
       "      <th>threat</th>\n",
       "    </tr>\n",
       "  </thead>\n",
       "  <tbody>\n",
       "    <tr>\n",
       "      <th>count</th>\n",
       "      <td>1993590</td>\n",
       "      <td>1.993590e+06</td>\n",
       "      <td>1.993590e+06</td>\n",
       "      <td>1.993590e+06</td>\n",
       "      <td>1.993590e+06</td>\n",
       "      <td>1.993590e+06</td>\n",
       "      <td>1.993590e+06</td>\n",
       "    </tr>\n",
       "    <tr>\n",
       "      <th>mean</th>\n",
       "      <td>2017-04-11 12:02:49.758475776</td>\n",
       "      <td>4.594079e-03</td>\n",
       "      <td>1.393125e-02</td>\n",
       "      <td>6.581788e-03</td>\n",
       "      <td>2.261415e-02</td>\n",
       "      <td>8.136536e-02</td>\n",
       "      <td>9.308203e-03</td>\n",
       "    </tr>\n",
       "    <tr>\n",
       "      <th>min</th>\n",
       "      <td>2015-09-29 00:00:00</td>\n",
       "      <td>0.000000e+00</td>\n",
       "      <td>0.000000e+00</td>\n",
       "      <td>0.000000e+00</td>\n",
       "      <td>0.000000e+00</td>\n",
       "      <td>0.000000e+00</td>\n",
       "      <td>0.000000e+00</td>\n",
       "    </tr>\n",
       "    <tr>\n",
       "      <th>25%</th>\n",
       "      <td>2017-01-05 00:00:00</td>\n",
       "      <td>0.000000e+00</td>\n",
       "      <td>0.000000e+00</td>\n",
       "      <td>0.000000e+00</td>\n",
       "      <td>0.000000e+00</td>\n",
       "      <td>0.000000e+00</td>\n",
       "      <td>0.000000e+00</td>\n",
       "    </tr>\n",
       "    <tr>\n",
       "      <th>50%</th>\n",
       "      <td>2017-05-05 00:00:00</td>\n",
       "      <td>0.000000e+00</td>\n",
       "      <td>0.000000e+00</td>\n",
       "      <td>0.000000e+00</td>\n",
       "      <td>0.000000e+00</td>\n",
       "      <td>0.000000e+00</td>\n",
       "      <td>0.000000e+00</td>\n",
       "    </tr>\n",
       "    <tr>\n",
       "      <th>75%</th>\n",
       "      <td>2017-08-15 00:00:00</td>\n",
       "      <td>0.000000e+00</td>\n",
       "      <td>0.000000e+00</td>\n",
       "      <td>0.000000e+00</td>\n",
       "      <td>0.000000e+00</td>\n",
       "      <td>1.000000e-01</td>\n",
       "      <td>0.000000e+00</td>\n",
       "    </tr>\n",
       "    <tr>\n",
       "      <th>max</th>\n",
       "      <td>2017-11-11 00:00:00</td>\n",
       "      <td>1.000000e+00</td>\n",
       "      <td>1.000000e+00</td>\n",
       "      <td>1.000000e+00</td>\n",
       "      <td>1.000000e+00</td>\n",
       "      <td>1.000000e+00</td>\n",
       "      <td>1.000000e+00</td>\n",
       "    </tr>\n",
       "    <tr>\n",
       "      <th>std</th>\n",
       "      <td>NaN</td>\n",
       "      <td>2.288998e-02</td>\n",
       "      <td>6.475419e-02</td>\n",
       "      <td>4.517687e-02</td>\n",
       "      <td>7.864476e-02</td>\n",
       "      <td>1.762964e-01</td>\n",
       "      <td>4.940783e-02</td>\n",
       "    </tr>\n",
       "  </tbody>\n",
       "</table>\n",
       "</div>"
      ],
      "text/plain": [
       "                        created_date  severe_toxicity       obscene  \\\n",
       "count                        1993590     1.993590e+06  1.993590e+06   \n",
       "mean   2017-04-11 12:02:49.758475776     4.594079e-03  1.393125e-02   \n",
       "min              2015-09-29 00:00:00     0.000000e+00  0.000000e+00   \n",
       "25%              2017-01-05 00:00:00     0.000000e+00  0.000000e+00   \n",
       "50%              2017-05-05 00:00:00     0.000000e+00  0.000000e+00   \n",
       "75%              2017-08-15 00:00:00     0.000000e+00  0.000000e+00   \n",
       "max              2017-11-11 00:00:00     1.000000e+00  1.000000e+00   \n",
       "std                              NaN     2.288998e-02  6.475419e-02   \n",
       "\n",
       "       sexual_explicit  identity_attack        insult        threat  \n",
       "count     1.993590e+06     1.993590e+06  1.993590e+06  1.993590e+06  \n",
       "mean      6.581788e-03     2.261415e-02  8.136536e-02  9.308203e-03  \n",
       "min       0.000000e+00     0.000000e+00  0.000000e+00  0.000000e+00  \n",
       "25%       0.000000e+00     0.000000e+00  0.000000e+00  0.000000e+00  \n",
       "50%       0.000000e+00     0.000000e+00  0.000000e+00  0.000000e+00  \n",
       "75%       0.000000e+00     0.000000e+00  1.000000e-01  0.000000e+00  \n",
       "max       1.000000e+00     1.000000e+00  1.000000e+00  1.000000e+00  \n",
       "std       4.517687e-02     7.864476e-02  1.762964e-01  4.940783e-02  "
      ]
     },
     "execution_count": 7,
     "metadata": {},
     "output_type": "execute_result"
    }
   ],
   "source": [
    "### View summary statistics\n",
    "df[[\"created_date\", \"severe_toxicity\", \"obscene\", \"sexual_explicit\", \"identity_attack\", \"insult\", \"threat\"]].describe(datetime_is_numeric = True)"
   ]
  },
  {
   "cell_type": "markdown",
   "metadata": {},
   "source": [
    "Comments are from Sep 2015 to Nov 2017"
   ]
  },
  {
   "cell_type": "code",
   "execution_count": 8,
   "metadata": {
    "colab": {
     "base_uri": "https://localhost:8080/",
     "height": 112
    },
    "executionInfo": {
     "elapsed": 3971,
     "status": "ok",
     "timestamp": 1673835216682,
     "user": {
      "displayName": "Judy Du",
      "userId": "10405767780800650435"
     },
     "user_tz": 300
    },
    "id": "uj91x3PqKG6r",
    "outputId": "157ac0b6-52f8-46aa-f3aa-6b2cb164ac08"
   },
   "outputs": [
    {
     "data": {
      "text/html": [
       "<div>\n",
       "<style scoped>\n",
       "    .dataframe tbody tr th:only-of-type {\n",
       "        vertical-align: middle;\n",
       "    }\n",
       "\n",
       "    .dataframe tbody tr th {\n",
       "        vertical-align: top;\n",
       "    }\n",
       "\n",
       "    .dataframe thead th {\n",
       "        text-align: right;\n",
       "    }\n",
       "</style>\n",
       "<table border=\"1\" class=\"dataframe\">\n",
       "  <thead>\n",
       "    <tr style=\"text-align: right;\">\n",
       "      <th></th>\n",
       "      <th>toxic_subtype_ind</th>\n",
       "      <th>count</th>\n",
       "      <th>percent</th>\n",
       "    </tr>\n",
       "  </thead>\n",
       "  <tbody>\n",
       "    <tr>\n",
       "      <th>0</th>\n",
       "      <td>0</td>\n",
       "      <td>1853804</td>\n",
       "      <td>92.988227</td>\n",
       "    </tr>\n",
       "    <tr>\n",
       "      <th>1</th>\n",
       "      <td>1</td>\n",
       "      <td>139786</td>\n",
       "      <td>7.011773</td>\n",
       "    </tr>\n",
       "  </tbody>\n",
       "</table>\n",
       "</div>"
      ],
      "text/plain": [
       "   toxic_subtype_ind    count    percent\n",
       "0                  0  1853804  92.988227\n",
       "1                  1   139786   7.011773"
      ]
     },
     "execution_count": 8,
     "metadata": {},
     "output_type": "execute_result"
    }
   ],
   "source": [
    "### View toxic subtype counts\n",
    "df_dist = df.groupby([\"toxic_subtype_ind\"])[[\"comment_text\"]].agg(count = (\"comment_text\", \"count\")).reset_index()\n",
    "df_dist[\"percent\"] = df_dist[\"count\"] / df_dist[\"count\"].sum() * 100\n",
    "df_dist"
   ]
  },
  {
   "cell_type": "markdown",
   "metadata": {},
   "source": [
    "~93% of the comments are not considered toxic by subtype"
   ]
  },
  {
   "cell_type": "code",
   "execution_count": 9,
   "metadata": {
    "id": "4IqZrrJ4HMoX"
   },
   "outputs": [],
   "source": [
    "df_melt = pd.melt(frame = df,\n",
    "                  value_vars = [\"severe_toxicity_ind\", \"obscene_ind\", \"sexual_explicit_ind\", \"identity_attack_ind\", \"insult_ind\", \"threat_ind\"],\n",
    "                  var_name = \"toxic_subtype\", \n",
    "                  value_name = \"value\")\n",
    "df_melt[\"toxic_subtype\"] = df_melt[\"toxic_subtype\"].str.replace(\"_ind\", \"\")"
   ]
  },
  {
   "cell_type": "code",
   "execution_count": 10,
   "metadata": {
    "colab": {
     "base_uri": "https://localhost:8080/",
     "height": 410
    },
    "executionInfo": {
     "elapsed": 5151,
     "status": "ok",
     "timestamp": 1673835656439,
     "user": {
      "displayName": "Judy Du",
      "userId": "10405767780800650435"
     },
     "user_tz": 300
    },
    "id": "UlYcILmmJyhM",
    "outputId": "28fb8931-c94d-4464-ed65-bee92a14dd54"
   },
   "outputs": [
    {
     "data": {
      "image/png": "[encoded data removed]",
      "text/plain": [
       "<Figure size 1200x400 with 1 Axes>"
      ]
     },
     "metadata": {},
     "output_type": "display_data"
    }
   ],
   "source": [
    "### Distribution of toxic subtype\n",
    "sns.barplot(data = df_melt, x = \"toxic_subtype\", y = \"value\", \n",
    "            order = [\"insult\", \"identity_attack\", \"obscene\", \"sexual_explicit\", \"threat\", \"severe_toxicity\"],\n",
    "            estimator = np.sum, errorbar = None)\n",
    "plt.title(\"Number of Comments by Toxic Subtype\")\n",
    "plt.xlabel(\"Toxic Subtype\")\n",
    "plt.ylabel(\"Count\")\n",
    "plt.show()"
   ]
  },
  {
   "cell_type": "markdown",
   "metadata": {},
   "source": [
    "For the 7% of the comments that are considered toxic, most comments are insults"
   ]
  },
  {
   "cell_type": "markdown",
   "metadata": {
    "id": "LalNnky6rv8p"
   },
   "source": [
    "# CREATE TRAIN & TEST SETS"
   ]
  },
  {
   "cell_type": "markdown",
   "metadata": {
    "id": "mg53MLmD7jFY"
   },
   "source": [
    "BERT is a large NN architecture. Amazon Sagemaker's free GPU cannot handle perform BERT's pre-processing on the entire data frame because of RAM. Lets sample the DataFrame to ensure we can demonstrate the pre-processing of the data as well as the fine-tuning of the model"
   ]
  },
  {
   "cell_type": "code",
   "execution_count": 11,
   "metadata": {
    "id": "ixOTv2k18_tH"
   },
   "outputs": [],
   "source": [
    "def sample_dataframe(df, n_samples):\n",
    "    \"\"\"Samples the DataFrame\n",
    "    n_samples: number of samples to return\n",
    "    \"\"\"\n",
    "    # Set seed for reproducibility\n",
    "    rng = np.random.RandomState(123) \n",
    "\n",
    "    # Perform random sampling\n",
    "    sample_df = df.sample(n = n_samples, replace = False, random_state = rng)\n",
    "    df_train, df_test = train_test_split(sample_df, train_size = 0.70, random_state = rng)\n",
    "    \n",
    "    return df_train, df_test"
   ]
  },
  {
   "cell_type": "code",
   "execution_count": 12,
   "metadata": {
    "colab": {
     "base_uri": "https://localhost:8080/"
    },
    "executionInfo": {
     "elapsed": 17,
     "status": "ok",
     "timestamp": 1673880341145,
     "user": {
      "displayName": "Judy Du",
      "userId": "10405767780800650435"
     },
     "user_tz": 300
    },
    "id": "AUX6NTev8tqu",
    "outputId": "e7758594-e60a-4320-f95a-98f0f504bf68"
   },
   "outputs": [
    {
     "name": "stdout",
     "output_type": "stream",
     "text": [
      "(700, 19) (300, 19)\n"
     ]
    }
   ],
   "source": [
    "df_train, df_test = sample_dataframe(df, n_samples = 1000)\n",
    "print(df_train.shape, df_test.shape)"
   ]
  },
  {
   "cell_type": "markdown",
   "metadata": {
    "id": "jhlAHcdD91Cx"
   },
   "source": [
    "# TEXT CLASSIFICATION"
   ]
  },
  {
   "cell_type": "markdown",
   "metadata": {
    "id": "qcwyXa0cDCmL"
   },
   "source": [
    "Create functions to load BERT model tokenizer, pre-process data, load BERT model, and fine-tune the model"
   ]
  },
  {
   "cell_type": "code",
   "execution_count": 13,
   "metadata": {
    "id": "d1jXKKHaHnkx"
   },
   "outputs": [],
   "source": [
    "def load_model_tokenizer():\n",
    "    \"\"\"Loads BERT tokenizer\"\"\"\n",
    "    tokenizer = AutoTokenizer.from_pretrained(\"bert-base-cased\")\n",
    "    return tokenizer"
   ]
  },
  {
   "cell_type": "code",
   "execution_count": 14,
   "metadata": {
    "id": "LO22sxJ3H1Em"
   },
   "outputs": [],
   "source": [
    "def preprocess_data(df, tokenizer):\n",
    "    \"\"\"Pre-processes the data\n",
    "    tokenizer: tokenizer instance\n",
    "    \"\"\"\n",
    "    comment_list = df[\"comment_text_cleaned\"].tolist()\n",
    "\n",
    "    tokenized_data = tokenizer(comment_list, return_tensors = \"np\", padding = True, truncation = True)\n",
    "    tokenized_data = dict(tokenized_data) # convert it to a dict for Keras\n",
    "\n",
    "    labels = np.array(df[[\"severe_toxicity\", \"obscene\", \"sexual_explicit\", \"identity_attack\", \"insult\", \"threat\"]])\n",
    "\n",
    "    return tokenized_data, labels"
   ]
  },
  {
   "cell_type": "code",
   "execution_count": 15,
   "metadata": {
    "id": "B-5TwZ5EB6iS"
   },
   "outputs": [],
   "source": [
    "def create_model(n_classes = 6):\n",
    "    \"\"\"Loads BERT model\n",
    "    n_classes: number of classes\n",
    "    \"\"\"\n",
    "    tf.random.set_seed(123)\n",
    "    tf.keras.backend.clear_session()\n",
    "    input_ids = Input(shape = (None,), dtype = tf.int32, name = \"input_ids\")\n",
    "    input_type = Input(shape = (None,), dtype = tf.int32, name = \"token_type_ids\")\n",
    "    input_mask = Input(shape = (None,), dtype = tf.int32, name = \"attention_mask\")\n",
    "    inputs = [input_ids, input_type, input_mask]\n",
    "    bert = TFBertModel.from_pretrained(\"bert-base-cased\")\n",
    "    bert_outputs = bert(inputs)\n",
    "    last_hidden_states = bert_outputs.last_hidden_state\n",
    "    avg = GlobalAveragePooling1D()(last_hidden_states)\n",
    "    output = Dense(n_classes, activation = \"sigmoid\")(avg)\n",
    "    model = Model(inputs = inputs, outputs = output)\n",
    "\n",
    "    return model"
   ]
  },
  {
   "cell_type": "code",
   "execution_count": 16,
   "metadata": {
    "id": "SvkKSQH5B8me"
   },
   "outputs": [],
   "source": [
    "def fine_tune_model(model, x, y, n_epochs = 5):\n",
    "    \"\"\"Fine-tunes the model\n",
    "    n_epochs: number of epochs\n",
    "    \"\"\"\n",
    "    n_patience = np.ceil(n_epoch * 0.20)\n",
    "    es = EarlyStopping(monitor = \"loss\", patience = n_patience, restore_best_weights = True)\n",
    "    mc = ModelCheckpoint(\"Model/mod.h5\", monitor = \"loss\", save_best_only = True)\n",
    "\n",
    "    model.compile(optimizer = Adam(3e-5), loss = tf.keras.losses.BinaryCrossentropy())\n",
    "    model.fit(x, y, epochs = n_epochs, callbacks = [es, mc])\n",
    "\n",
    "    return model"
   ]
  },
  {
   "cell_type": "markdown",
   "metadata": {
    "id": "OWwpr5EOKVDs"
   },
   "source": [
    "Implement functions"
   ]
  },
  {
   "cell_type": "code",
   "execution_count": 17,
   "metadata": {
    "colab": {
     "base_uri": "https://localhost:8080/",
     "height": 145,
     "referenced_widgets": [
      "8156bd50fc9544b9a4e54660645b7469",
      "f241db870ce94b7ca745292b88ea7822",
      "6ef0bdbf24db45f187dd7149590222f9",
      "1dca3b7202e84b81a2980ddbe89dca1e",
      "c6b674c571d74937ad9bd72f0e8416a0",
      "618e3fd2281a42beb0a5fc53e02a3aff",
      "8f350869481441c4aa15c06b82374c53",
      "f9bb0132efbd401084643a7f05e35716",
      "ab246e08cfdd49c1959f469718b38ffc",
      "334fcac654c5499da3f4ec9ff21332a9",
      "3655dd12f0cc492faae9898a829eb91f",
      "19b364fda6ea4b1296b8eaa7c50904e9",
      "1753447f33084ce29758b3ee5552027a",
      "97fcfb93cb6b4688b9f3244f03ce559f",
      "6a3f2993b8b04c99ba1bba06a0324608",
      "8fe5a939eefd42979c60861ddacef626",
      "6bb12aff837544e38743e5e44c65d567",
      "3f1e60d171e04b69b381fc23d94b27cc",
      "9696d331dfc74e389f94353fc93fd451",
      "e2e5cf3840da499aa544756338533471",
      "a4e4db4ccb14400e968c4e6d76e73ab3",
      "0a4b192542b94b43aa92729bb671fefd",
      "5a3796333e43482b8466deb17f2e25d6",
      "5e57f91e0b814e2da1146018354a1fcc",
      "b4e879949e164e0294003e2dfd1855e2",
      "5551b54b60da47869681e9b54e269706",
      "a47531f284ee4cc29c60ad49f3a9ee46",
      "7b993c83870c433d9561c20ea577ee70",
      "aa890928f3104f42bb73be7ff433017d",
      "bece576959fd4985b9a1218862245bfd",
      "64489ef30b194b1aa35a6af0492b194e",
      "a12d6056a45342129d0e28c0aaac0a16",
      "93ef353467164642897b45b3ea32a030",
      "ccad7cc5769b4375aeb4b8b15897071d",
      "64bcacefba21432cb4251ee41a16a655",
      "f897fdcb8b6b425a81e0aabe24d62f47",
      "d24c5629f8774e079610e5d5f3a3bbe5",
      "3eff5861102046089bb1bd4721b3cde6",
      "0f9b7a742fa7427899977c0d766290cb",
      "87ffb2744e5f42449cbcff6ad73b3cff",
      "52bae39a5f61434b97a62996372d4627",
      "0e96e2ca451f40048306cf1d3c534516",
      "9743f67331e545fe983f5734f54a3f9a",
      "09081b4475604f38acf08dae4457deb5"
     ]
    },
    "executionInfo": {
     "elapsed": 11712,
     "status": "ok",
     "timestamp": 1673880182695,
     "user": {
      "displayName": "Judy Du",
      "userId": "10405767780800650435"
     },
     "user_tz": 300
    },
    "id": "s6_tMjDSIP9E",
    "outputId": "25173149-b1b9-4556-ddf5-695dbd9431e2"
   },
   "outputs": [],
   "source": [
    "### Load tokenizer\n",
    "tokenizer = load_model_tokenizer()"
   ]
  },
  {
   "cell_type": "code",
   "execution_count": 18,
   "metadata": {
    "id": "ADWVwAOWDOmn"
   },
   "outputs": [],
   "source": [
    "### Pre-process train and test sets\n",
    "X_train, Y_train = preprocess_data(df_train, tokenizer)\n",
    "X_test, Y_test = preprocess_data(df_test, tokenizer)"
   ]
  },
  {
   "cell_type": "code",
   "execution_count": 19,
   "metadata": {
    "colab": {
     "base_uri": "https://localhost:8080/",
     "height": 156,
     "referenced_widgets": [
      "620585c818dc41b29cd038e7d648aabd",
      "44d97870b5774ee19a10bdf2182b467a",
      "262a920274234e6eb5db27330c839373",
      "1a34a41d0fc84e7081e08140f117d8ad",
      "a781004b53a048a19c0519fa1a953d01",
      "a7a38916688b4fe9b834ff2770504802",
      "e3080a2834104f4cbd2d2b8be0e5a2c7",
      "c08dfbdefe3b4ff6a08b16671d3ea8e5",
      "8e6df12e0a5a417ab0d6824ff19ccd08",
      "a0e6519400c546e6a11768cce02b8cb1",
      "da3cddd8a9e34ea68164e7166396e727"
     ]
    },
    "executionInfo": {
     "elapsed": 26092,
     "status": "ok",
     "timestamp": 1673880208769,
     "user": {
      "displayName": "Judy Du",
      "userId": "10405767780800650435"
     },
     "user_tz": 300
    },
    "id": "597sIY-MGrL-",
    "outputId": "13236e95-8fc1-40ce-bcb2-2354041a56bb"
   },
   "outputs": [
    {
     "name": "stderr",
     "output_type": "stream",
     "text": [
      "Some layers from the model checkpoint at bert-base-cased were not used when initializing TFBertModel: ['mlm___cls', 'nsp___cls']\n",
      "- This IS expected if you are initializing TFBertModel from the checkpoint of a model trained on another task or with another architecture (e.g. initializing a BertForSequenceClassification model from a BertForPreTraining model).\n",
      "- This IS NOT expected if you are initializing TFBertModel from the checkpoint of a model that you expect to be exactly identical (initializing a BertForSequenceClassification model from a BertForSequenceClassification model).\n",
      "All the layers of TFBertModel were initialized from the model checkpoint at bert-base-cased.\n",
      "If your task is similar to the task the model of the checkpoint was trained on, you can already use TFBertModel for predictions without further training.\n"
     ]
    }
   ],
   "source": [
    "### Create model\n",
    "model = create_model()"
   ]
  },
  {
   "cell_type": "code",
   "execution_count": 20,
   "metadata": {
    "colab": {
     "base_uri": "https://localhost:8080/"
    },
    "executionInfo": {
     "elapsed": 93657,
     "status": "ok",
     "timestamp": 1673880302351,
     "user": {
      "displayName": "Judy Du",
      "userId": "10405767780800650435"
     },
     "user_tz": 300
    },
    "id": "wl16rf3EGmjS",
    "outputId": "2c94e81c-15dd-4fc1-8906-783f32b11bda"
   },
   "outputs": [
    {
     "name": "stdout",
     "output_type": "stream",
     "text": [
      "Epoch 1/5\n",
      "22/22 [==============================] - 69s 1s/step - loss: 0.1350\n",
      "Epoch 2/5\n",
      "22/22 [==============================] - 33s 1s/step - loss: 0.0947\n",
      "Epoch 3/5\n",
      "22/22 [==============================] - 31s 1s/step - loss: 0.0987\n"
     ]
    }
   ],
   "source": [
    "### Fine-tune model\n",
    "model = fine_tune_model(model, X_train, Y_train)"
   ]
  },
  {
   "cell_type": "markdown",
   "metadata": {},
   "source": [
    "Evaluate model"
   ]
  },
  {
   "cell_type": "code",
   "execution_count": 21,
   "metadata": {
    "colab": {
     "base_uri": "https://localhost:8080/"
    },
    "executionInfo": {
     "elapsed": 4448,
     "status": "ok",
     "timestamp": 1673880306764,
     "user": {
      "displayName": "Judy Du",
      "userId": "10405767780800650435"
     },
     "user_tz": 300
    },
    "id": "6LGS1tCPHFaf",
    "outputId": "709cf374-7c3f-4f15-d5db-30dad58e58c5"
   },
   "outputs": [
    {
     "name": "stdout",
     "output_type": "stream",
     "text": [
      "10/10 [==============================] - 6s 382ms/step - loss: 0.0910\n"
     ]
    },
    {
     "data": {
      "text/plain": [
       "0.09097244590520859"
      ]
     },
     "execution_count": 21,
     "metadata": {},
     "output_type": "execute_result"
    }
   ],
   "source": [
    "### Score model\n",
    "model.evaluate(X_test, Y_test)"
   ]
  },
  {
   "cell_type": "code",
   "execution_count": 22,
   "metadata": {
    "colab": {
     "base_uri": "https://localhost:8080/"
    },
    "executionInfo": {
     "elapsed": 4150,
     "status": "ok",
     "timestamp": 1673880310882,
     "user": {
      "displayName": "Judy Du",
      "userId": "10405767780800650435"
     },
     "user_tz": 300
    },
    "id": "OT4nYUVEvnZf",
    "outputId": "4c3b32e2-bb57-4063-cf66-2d6c6d864699"
   },
   "outputs": [
    {
     "name": "stdout",
     "output_type": "stream",
     "text": [
      "10/10 [==============================] - 6s 378ms/step\n"
     ]
    }
   ],
   "source": [
    "### Get predictions\n",
    "yhat = model.predict(X_test)\n",
    "df_yhat = pd.DataFrame(yhat, columns = [\"severe_toxicity\", \"obscene\", \"sexual_explicit\", \"identity_attack\", \"insult\", \"threat\"]).add_suffix(\"_yhat\")"
   ]
  },
  {
   "cell_type": "code",
   "execution_count": 23,
   "metadata": {
    "id": "Q-w0sM_Yw9Hn"
   },
   "outputs": [],
   "source": [
    "df_test = df_test[[\"comment_text\", \"severe_toxicity\", \"obscene\", \"sexual_explicit\", \"identity_attack\", \"insult\", \"threat\"]].reset_index().drop(columns = \"index\").copy()\n",
    "df_test = pd.concat([df_test, df_yhat], axis = 1)"
   ]
  },
  {
   "cell_type": "code",
   "execution_count": 25,
   "metadata": {
    "id": "YEablAzIyTdJ"
   },
   "outputs": [],
   "source": [
    "def calculate_kl_divergence(df, column_list):\n",
    "    \"\"\"Calculates KL Divergence\n",
    "    column_list: list containing the name of the variables to calculate KL Divergence for\n",
    "    \"\"\"\n",
    "    df_kl = pd.DataFrame()\n",
    "    kl = tf.keras.losses.KLDivergence()\n",
    "\n",
    "    # Loop through each variable and calculate KL Divergence\n",
    "    for col in column_list:\n",
    "        y_true = col\n",
    "        y_hat = col + \"_yhat\"\n",
    "\n",
    "        kl_divergence = kl(df[y_true], df[y_hat]).numpy()\n",
    "\n",
    "        df_i = pd.DataFrame({\"toxic_subtype\": col, \"kl_divergence\": kl_divergence}, index = [0])\n",
    "        df_kl = pd.concat([df_kl, df_i])\n",
    "        \n",
    "    return df_kl"
   ]
  },
  {
   "cell_type": "code",
   "execution_count": 26,
   "metadata": {
    "id": "pz4gMJUXzrHe"
   },
   "outputs": [
    {
     "data": {
      "text/html": [
       "<div>\n",
       "<style scoped>\n",
       "    .dataframe tbody tr th:only-of-type {\n",
       "        vertical-align: middle;\n",
       "    }\n",
       "\n",
       "    .dataframe tbody tr th {\n",
       "        vertical-align: top;\n",
       "    }\n",
       "\n",
       "    .dataframe thead th {\n",
       "        text-align: right;\n",
       "    }\n",
       "</style>\n",
       "<table border=\"1\" class=\"dataframe\">\n",
       "  <thead>\n",
       "    <tr style=\"text-align: right;\">\n",
       "      <th></th>\n",
       "      <th>toxic_subtype</th>\n",
       "      <th>kl_divergence</th>\n",
       "    </tr>\n",
       "  </thead>\n",
       "  <tbody>\n",
       "    <tr>\n",
       "      <th>0</th>\n",
       "      <td>severe_toxicity</td>\n",
       "      <td>4.595905</td>\n",
       "    </tr>\n",
       "    <tr>\n",
       "      <th>0</th>\n",
       "      <td>obscene</td>\n",
       "      <td>10.764425</td>\n",
       "    </tr>\n",
       "    <tr>\n",
       "      <th>0</th>\n",
       "      <td>sexual_explicit</td>\n",
       "      <td>1.924864</td>\n",
       "    </tr>\n",
       "    <tr>\n",
       "      <th>0</th>\n",
       "      <td>identity_attack</td>\n",
       "      <td>6.863667</td>\n",
       "    </tr>\n",
       "    <tr>\n",
       "      <th>0</th>\n",
       "      <td>insult</td>\n",
       "      <td>47.817329</td>\n",
       "    </tr>\n",
       "    <tr>\n",
       "      <th>0</th>\n",
       "      <td>threat</td>\n",
       "      <td>16.286493</td>\n",
       "    </tr>\n",
       "  </tbody>\n",
       "</table>\n",
       "</div>"
      ],
      "text/plain": [
       "     toxic_subtype  kl_divergence\n",
       "0  severe_toxicity       4.595905\n",
       "0          obscene      10.764425\n",
       "0  sexual_explicit       1.924864\n",
       "0  identity_attack       6.863667\n",
       "0           insult      47.817329\n",
       "0           threat      16.286493"
      ]
     },
     "execution_count": 26,
     "metadata": {},
     "output_type": "execute_result"
    }
   ],
   "source": [
    "variable_list = [\"severe_toxicity\", \"obscene\", \"sexual_explicit\", \"identity_attack\", \"insult\", \"threat\"]\n",
    "df_kl = calculate_kl_divergence(df_test, column_list = variable_list)\n",
    "df_kl"
   ]
  },
  {
   "cell_type": "markdown",
   "metadata": {},
   "source": [
    "KL Divergence is high, which is expected because we only trained on 700 data points. The scores will be lower if we trained on more data"
   ]
  }
 ],
 "metadata": {
  "accelerator": "GPU",
  "colab": {
   "provenance": [
    {
     "file_id": "https://github.com/tensorflow/text/blob/master/docs/tutorials/classify_text_with_bert.ipynb",
     "timestamp": 1670785444185
    }
   ],
   "toc_visible": true
  },
  "gpuClass": "standard",
  "kernelspec": {
   "display_name": "tf_env:Python",
   "language": "python",
   "name": "conda-env-tf_env-py"
  },
  "language_info": {
   "codemirror_mode": {
    "name": "ipython",
    "version": 3
   },
   "file_extension": ".py",
   "mimetype": "text/x-python",
   "name": "python",
   "nbconvert_exporter": "python",
   "pygments_lexer": "ipython3",
   "version": "3.9.15"
  },
  "widgets": {
   "application/vnd.jupyter.widget-state+json": {
    "09081b4475604f38acf08dae4457deb5": {
     "model_module": "@jupyter-widgets/controls",
     "model_module_version": "1.5.0",
     "model_name": "DescriptionStyleModel",
     "state": {
      "_model_module": "@jupyter-widgets/controls",
      "_model_module_version": "1.5.0",
      "_model_name": "DescriptionStyleModel",
      "_view_count": null,
      "_view_module": "@jupyter-widgets/base",
      "_view_module_version": "1.2.0",
      "_view_name": "StyleView",
      "description_width": ""
     }
    },
    "0a4b192542b94b43aa92729bb671fefd": {
     "model_module": "@jupyter-widgets/controls",
     "model_module_version": "1.5.0",
     "model_name": "DescriptionStyleModel",
     "state": {
      "_model_module": "@jupyter-widgets/controls",
      "_model_module_version": "1.5.0",
      "_model_name": "DescriptionStyleModel",
      "_view_count": null,
      "_view_module": "@jupyter-widgets/base",
      "_view_module_version": "1.2.0",
      "_view_name": "StyleView",
      "description_width": ""
     }
    },
    "0e96e2ca451f40048306cf1d3c534516": {
     "model_module": "@jupyter-widgets/controls",
     "model_module_version": "1.5.0",
     "model_name": "ProgressStyleModel",
     "state": {
      "_model_module": "@jupyter-widgets/controls",
      "_model_module_version": "1.5.0",
      "_model_name": "ProgressStyleModel",
      "_view_count": null,
      "_view_module": "@jupyter-widgets/base",
      "_view_module_version": "1.2.0",
      "_view_name": "StyleView",
      "bar_color": null,
      "description_width": ""
     }
    },
    "0f9b7a742fa7427899977c0d766290cb": {
     "model_module": "@jupyter-widgets/base",
     "model_module_version": "1.2.0",
     "model_name": "LayoutModel",
     "state": {
      "_model_module": "@jupyter-widgets/base",
      "_model_module_version": "1.2.0",
      "_model_name": "LayoutModel",
      "_view_count": null,
      "_view_module": "@jupyter-widgets/base",
      "_view_module_version": "1.2.0",
      "_view_name": "LayoutView",
      "align_content": null,
      "align_items": null,
      "align_self": null,
      "border": null,
      "bottom": null,
      "display": null,
      "flex": null,
      "flex_flow": null,
      "grid_area": null,
      "grid_auto_columns": null,
      "grid_auto_flow": null,
      "grid_auto_rows": null,
      "grid_column": null,
      "grid_gap": null,
      "grid_row": null,
      "grid_template_areas": null,
      "grid_template_columns": null,
      "grid_template_rows": null,
      "height": null,
      "justify_content": null,
      "justify_items": null,
      "left": null,
      "margin": null,
      "max_height": null,
      "max_width": null,
      "min_height": null,
      "min_width": null,
      "object_fit": null,
      "object_position": null,
      "order": null,
      "overflow": null,
      "overflow_x": null,
      "overflow_y": null,
      "padding": null,
      "right": null,
      "top": null,
      "visibility": null,
      "width": null
     }
    },
    "1753447f33084ce29758b3ee5552027a": {
     "model_module": "@jupyter-widgets/controls",
     "model_module_version": "1.5.0",
     "model_name": "HTMLModel",
     "state": {
      "_dom_classes": [],
      "_model_module": "@jupyter-widgets/controls",
      "_model_module_version": "1.5.0",
      "_model_name": "HTMLModel",
      "_view_count": null,
      "_view_module": "@jupyter-widgets/controls",
      "_view_module_version": "1.5.0",
      "_view_name": "HTMLView",
      "description": "",
      "description_tooltip": null,
      "layout": "IPY_MODEL_6bb12aff837544e38743e5e44c65d567",
      "placeholder": "​",
      "style": "IPY_MODEL_3f1e60d171e04b69b381fc23d94b27cc",
      "value": "Downloading: 100%"
     }
    },
    "19b364fda6ea4b1296b8eaa7c50904e9": {
     "model_module": "@jupyter-widgets/controls",
     "model_module_version": "1.5.0",
     "model_name": "HBoxModel",
     "state": {
      "_dom_classes": [],
      "_model_module": "@jupyter-widgets/controls",
      "_model_module_version": "1.5.0",
      "_model_name": "HBoxModel",
      "_view_count": null,
      "_view_module": "@jupyter-widgets/controls",
      "_view_module_version": "1.5.0",
      "_view_name": "HBoxView",
      "box_style": "",
      "children": [
       "IPY_MODEL_1753447f33084ce29758b3ee5552027a",
       "IPY_MODEL_97fcfb93cb6b4688b9f3244f03ce559f",
       "IPY_MODEL_6a3f2993b8b04c99ba1bba06a0324608"
      ],
      "layout": "IPY_MODEL_8fe5a939eefd42979c60861ddacef626"
     }
    },
    "1a34a41d0fc84e7081e08140f117d8ad": {
     "model_module": "@jupyter-widgets/controls",
     "model_module_version": "1.5.0",
     "model_name": "HTMLModel",
     "state": {
      "_dom_classes": [],
      "_model_module": "@jupyter-widgets/controls",
      "_model_module_version": "1.5.0",
      "_model_name": "HTMLModel",
      "_view_count": null,
      "_view_module": "@jupyter-widgets/controls",
      "_view_module_version": "1.5.0",
      "_view_name": "HTMLView",
      "description": "",
      "description_tooltip": null,
      "layout": "IPY_MODEL_a0e6519400c546e6a11768cce02b8cb1",
      "placeholder": "​",
      "style": "IPY_MODEL_da3cddd8a9e34ea68164e7166396e727",
      "value": " 527M/527M [00:09&lt;00:00, 69.3MB/s]"
     }
    },
    "1dca3b7202e84b81a2980ddbe89dca1e": {
     "model_module": "@jupyter-widgets/controls",
     "model_module_version": "1.5.0",
     "model_name": "HTMLModel",
     "state": {
      "_dom_classes": [],
      "_model_module": "@jupyter-widgets/controls",
      "_model_module_version": "1.5.0",
      "_model_name": "HTMLModel",
      "_view_count": null,
      "_view_module": "@jupyter-widgets/controls",
      "_view_module_version": "1.5.0",
      "_view_name": "HTMLView",
      "description": "",
      "description_tooltip": null,
      "layout": "IPY_MODEL_334fcac654c5499da3f4ec9ff21332a9",
      "placeholder": "​",
      "style": "IPY_MODEL_3655dd12f0cc492faae9898a829eb91f",
      "value": " 29.0/29.0 [00:00&lt;00:00, 682B/s]"
     }
    },
    "262a920274234e6eb5db27330c839373": {
     "model_module": "@jupyter-widgets/controls",
     "model_module_version": "1.5.0",
     "model_name": "FloatProgressModel",
     "state": {
      "_dom_classes": [],
      "_model_module": "@jupyter-widgets/controls",
      "_model_module_version": "1.5.0",
      "_model_name": "FloatProgressModel",
      "_view_count": null,
      "_view_module": "@jupyter-widgets/controls",
      "_view_module_version": "1.5.0",
      "_view_name": "ProgressView",
      "bar_style": "success",
      "description": "",
      "description_tooltip": null,
      "layout": "IPY_MODEL_c08dfbdefe3b4ff6a08b16671d3ea8e5",
      "max": 526681800,
      "min": 0,
      "orientation": "horizontal",
      "style": "IPY_MODEL_8e6df12e0a5a417ab0d6824ff19ccd08",
      "value": 526681800
     }
    },
    "334fcac654c5499da3f4ec9ff21332a9": {
     "model_module": "@jupyter-widgets/base",
     "model_module_version": "1.2.0",
     "model_name": "LayoutModel",
     "state": {
      "_model_module": "@jupyter-widgets/base",
      "_model_module_version": "1.2.0",
      "_model_name": "LayoutModel",
      "_view_count": null,
      "_view_module": "@jupyter-widgets/base",
      "_view_module_version": "1.2.0",
      "_view_name": "LayoutView",
      "align_content": null,
      "align_items": null,
      "align_self": null,
      "border": null,
      "bottom": null,
      "display": null,
      "flex": null,
      "flex_flow": null,
      "grid_area": null,
      "grid_auto_columns": null,
      "grid_auto_flow": null,
      "grid_auto_rows": null,
      "grid_column": null,
      "grid_gap": null,
      "grid_row": null,
      "grid_template_areas": null,
      "grid_template_columns": null,
      "grid_template_rows": null,
      "height": null,
      "justify_content": null,
      "justify_items": null,
      "left": null,
      "margin": null,
      "max_height": null,
      "max_width": null,
      "min_height": null,
      "min_width": null,
      "object_fit": null,
      "object_position": null,
      "order": null,
      "overflow": null,
      "overflow_x": null,
      "overflow_y": null,
      "padding": null,
      "right": null,
      "top": null,
      "visibility": null,
      "width": null
     }
    },
    "3655dd12f0cc492faae9898a829eb91f": {
     "model_module": "@jupyter-widgets/controls",
     "model_module_version": "1.5.0",
     "model_name": "DescriptionStyleModel",
     "state": {
      "_model_module": "@jupyter-widgets/controls",
      "_model_module_version": "1.5.0",
      "_model_name": "DescriptionStyleModel",
      "_view_count": null,
      "_view_module": "@jupyter-widgets/base",
      "_view_module_version": "1.2.0",
      "_view_name": "StyleView",
      "description_width": ""
     }
    },
    "3eff5861102046089bb1bd4721b3cde6": {
     "model_module": "@jupyter-widgets/base",
     "model_module_version": "1.2.0",
     "model_name": "LayoutModel",
     "state": {
      "_model_module": "@jupyter-widgets/base",
      "_model_module_version": "1.2.0",
      "_model_name": "LayoutModel",
      "_view_count": null,
      "_view_module": "@jupyter-widgets/base",
      "_view_module_version": "1.2.0",
      "_view_name": "LayoutView",
      "align_content": null,
      "align_items": null,
      "align_self": null,
      "border": null,
      "bottom": null,
      "display": null,
      "flex": null,
      "flex_flow": null,
      "grid_area": null,
      "grid_auto_columns": null,
      "grid_auto_flow": null,
      "grid_auto_rows": null,
      "grid_column": null,
      "grid_gap": null,
      "grid_row": null,
      "grid_template_areas": null,
      "grid_template_columns": null,
      "grid_template_rows": null,
      "height": null,
      "justify_content": null,
      "justify_items": null,
      "left": null,
      "margin": null,
      "max_height": null,
      "max_width": null,
      "min_height": null,
      "min_width": null,
      "object_fit": null,
      "object_position": null,
      "order": null,
      "overflow": null,
      "overflow_x": null,
      "overflow_y": null,
      "padding": null,
      "right": null,
      "top": null,
      "visibility": null,
      "width": null
     }
    },
    "3f1e60d171e04b69b381fc23d94b27cc": {
     "model_module": "@jupyter-widgets/controls",
     "model_module_version": "1.5.0",
     "model_name": "DescriptionStyleModel",
     "state": {
      "_model_module": "@jupyter-widgets/controls",
      "_model_module_version": "1.5.0",
      "_model_name": "DescriptionStyleModel",
      "_view_count": null,
      "_view_module": "@jupyter-widgets/base",
      "_view_module_version": "1.2.0",
      "_view_name": "StyleView",
      "description_width": ""
     }
    },
    "44d97870b5774ee19a10bdf2182b467a": {
     "model_module": "@jupyter-widgets/controls",
     "model_module_version": "1.5.0",
     "model_name": "HTMLModel",
     "state": {
      "_dom_classes": [],
      "_model_module": "@jupyter-widgets/controls",
      "_model_module_version": "1.5.0",
      "_model_name": "HTMLModel",
      "_view_count": null,
      "_view_module": "@jupyter-widgets/controls",
      "_view_module_version": "1.5.0",
      "_view_name": "HTMLView",
      "description": "",
      "description_tooltip": null,
      "layout": "IPY_MODEL_a7a38916688b4fe9b834ff2770504802",
      "placeholder": "​",
      "style": "IPY_MODEL_e3080a2834104f4cbd2d2b8be0e5a2c7",
      "value": "Downloading: 100%"
     }
    },
    "52bae39a5f61434b97a62996372d4627": {
     "model_module": "@jupyter-widgets/base",
     "model_module_version": "1.2.0",
     "model_name": "LayoutModel",
     "state": {
      "_model_module": "@jupyter-widgets/base",
      "_model_module_version": "1.2.0",
      "_model_name": "LayoutModel",
      "_view_count": null,
      "_view_module": "@jupyter-widgets/base",
      "_view_module_version": "1.2.0",
      "_view_name": "LayoutView",
      "align_content": null,
      "align_items": null,
      "align_self": null,
      "border": null,
      "bottom": null,
      "display": null,
      "flex": null,
      "flex_flow": null,
      "grid_area": null,
      "grid_auto_columns": null,
      "grid_auto_flow": null,
      "grid_auto_rows": null,
      "grid_column": null,
      "grid_gap": null,
      "grid_row": null,
      "grid_template_areas": null,
      "grid_template_columns": null,
      "grid_template_rows": null,
      "height": null,
      "justify_content": null,
      "justify_items": null,
      "left": null,
      "margin": null,
      "max_height": null,
      "max_width": null,
      "min_height": null,
      "min_width": null,
      "object_fit": null,
      "object_position": null,
      "order": null,
      "overflow": null,
      "overflow_x": null,
      "overflow_y": null,
      "padding": null,
      "right": null,
      "top": null,
      "visibility": null,
      "width": null
     }
    },
    "5551b54b60da47869681e9b54e269706": {
     "model_module": "@jupyter-widgets/controls",
     "model_module_version": "1.5.0",
     "model_name": "HTMLModel",
     "state": {
      "_dom_classes": [],
      "_model_module": "@jupyter-widgets/controls",
      "_model_module_version": "1.5.0",
      "_model_name": "HTMLModel",
      "_view_count": null,
      "_view_module": "@jupyter-widgets/controls",
      "_view_module_version": "1.5.0",
      "_view_name": "HTMLView",
      "description": "",
      "description_tooltip": null,
      "layout": "IPY_MODEL_a12d6056a45342129d0e28c0aaac0a16",
      "placeholder": "​",
      "style": "IPY_MODEL_93ef353467164642897b45b3ea32a030",
      "value": " 213k/213k [00:00&lt;00:00, 260kB/s]"
     }
    },
    "5a3796333e43482b8466deb17f2e25d6": {
     "model_module": "@jupyter-widgets/controls",
     "model_module_version": "1.5.0",
     "model_name": "HBoxModel",
     "state": {
      "_dom_classes": [],
      "_model_module": "@jupyter-widgets/controls",
      "_model_module_version": "1.5.0",
      "_model_name": "HBoxModel",
      "_view_count": null,
      "_view_module": "@jupyter-widgets/controls",
      "_view_module_version": "1.5.0",
      "_view_name": "HBoxView",
      "box_style": "",
      "children": [
       "IPY_MODEL_5e57f91e0b814e2da1146018354a1fcc",
       "IPY_MODEL_b4e879949e164e0294003e2dfd1855e2",
       "IPY_MODEL_5551b54b60da47869681e9b54e269706"
      ],
      "layout": "IPY_MODEL_a47531f284ee4cc29c60ad49f3a9ee46"
     }
    },
    "5e57f91e0b814e2da1146018354a1fcc": {
     "model_module": "@jupyter-widgets/controls",
     "model_module_version": "1.5.0",
     "model_name": "HTMLModel",
     "state": {
      "_dom_classes": [],
      "_model_module": "@jupyter-widgets/controls",
      "_model_module_version": "1.5.0",
      "_model_name": "HTMLModel",
      "_view_count": null,
      "_view_module": "@jupyter-widgets/controls",
      "_view_module_version": "1.5.0",
      "_view_name": "HTMLView",
      "description": "",
      "description_tooltip": null,
      "layout": "IPY_MODEL_7b993c83870c433d9561c20ea577ee70",
      "placeholder": "​",
      "style": "IPY_MODEL_aa890928f3104f42bb73be7ff433017d",
      "value": "Downloading: 100%"
     }
    },
    "618e3fd2281a42beb0a5fc53e02a3aff": {
     "model_module": "@jupyter-widgets/base",
     "model_module_version": "1.2.0",
     "model_name": "LayoutModel",
     "state": {
      "_model_module": "@jupyter-widgets/base",
      "_model_module_version": "1.2.0",
      "_model_name": "LayoutModel",
      "_view_count": null,
      "_view_module": "@jupyter-widgets/base",
      "_view_module_version": "1.2.0",
      "_view_name": "LayoutView",
      "align_content": null,
      "align_items": null,
      "align_self": null,
      "border": null,
      "bottom": null,
      "display": null,
      "flex": null,
      "flex_flow": null,
      "grid_area": null,
      "grid_auto_columns": null,
      "grid_auto_flow": null,
      "grid_auto_rows": null,
      "grid_column": null,
      "grid_gap": null,
      "grid_row": null,
      "grid_template_areas": null,
      "grid_template_columns": null,
      "grid_template_rows": null,
      "height": null,
      "justify_content": null,
      "justify_items": null,
      "left": null,
      "margin": null,
      "max_height": null,
      "max_width": null,
      "min_height": null,
      "min_width": null,
      "object_fit": null,
      "object_position": null,
      "order": null,
      "overflow": null,
      "overflow_x": null,
      "overflow_y": null,
      "padding": null,
      "right": null,
      "top": null,
      "visibility": null,
      "width": null
     }
    },
    "620585c818dc41b29cd038e7d648aabd": {
     "model_module": "@jupyter-widgets/controls",
     "model_module_version": "1.5.0",
     "model_name": "HBoxModel",
     "state": {
      "_dom_classes": [],
      "_model_module": "@jupyter-widgets/controls",
      "_model_module_version": "1.5.0",
      "_model_name": "HBoxModel",
      "_view_count": null,
      "_view_module": "@jupyter-widgets/controls",
      "_view_module_version": "1.5.0",
      "_view_name": "HBoxView",
      "box_style": "",
      "children": [
       "IPY_MODEL_44d97870b5774ee19a10bdf2182b467a",
       "IPY_MODEL_262a920274234e6eb5db27330c839373",
       "IPY_MODEL_1a34a41d0fc84e7081e08140f117d8ad"
      ],
      "layout": "IPY_MODEL_a781004b53a048a19c0519fa1a953d01"
     }
    },
    "64489ef30b194b1aa35a6af0492b194e": {
     "model_module": "@jupyter-widgets/controls",
     "model_module_version": "1.5.0",
     "model_name": "ProgressStyleModel",
     "state": {
      "_model_module": "@jupyter-widgets/controls",
      "_model_module_version": "1.5.0",
      "_model_name": "ProgressStyleModel",
      "_view_count": null,
      "_view_module": "@jupyter-widgets/base",
      "_view_module_version": "1.2.0",
      "_view_name": "StyleView",
      "bar_color": null,
      "description_width": ""
     }
    },
    "64bcacefba21432cb4251ee41a16a655": {
     "model_module": "@jupyter-widgets/controls",
     "model_module_version": "1.5.0",
     "model_name": "HTMLModel",
     "state": {
      "_dom_classes": [],
      "_model_module": "@jupyter-widgets/controls",
      "_model_module_version": "1.5.0",
      "_model_name": "HTMLModel",
      "_view_count": null,
      "_view_module": "@jupyter-widgets/controls",
      "_view_module_version": "1.5.0",
      "_view_name": "HTMLView",
      "description": "",
      "description_tooltip": null,
      "layout": "IPY_MODEL_0f9b7a742fa7427899977c0d766290cb",
      "placeholder": "​",
      "style": "IPY_MODEL_87ffb2744e5f42449cbcff6ad73b3cff",
      "value": "Downloading: 100%"
     }
    },
    "6a3f2993b8b04c99ba1bba06a0324608": {
     "model_module": "@jupyter-widgets/controls",
     "model_module_version": "1.5.0",
     "model_name": "HTMLModel",
     "state": {
      "_dom_classes": [],
      "_model_module": "@jupyter-widgets/controls",
      "_model_module_version": "1.5.0",
      "_model_name": "HTMLModel",
      "_view_count": null,
      "_view_module": "@jupyter-widgets/controls",
      "_view_module_version": "1.5.0",
      "_view_name": "HTMLView",
      "description": "",
      "description_tooltip": null,
      "layout": "IPY_MODEL_a4e4db4ccb14400e968c4e6d76e73ab3",
      "placeholder": "​",
      "style": "IPY_MODEL_0a4b192542b94b43aa92729bb671fefd",
      "value": " 570/570 [00:00&lt;00:00, 18.6kB/s]"
     }
    },
    "6bb12aff837544e38743e5e44c65d567": {
     "model_module": "@jupyter-widgets/base",
     "model_module_version": "1.2.0",
     "model_name": "LayoutModel",
     "state": {
      "_model_module": "@jupyter-widgets/base",
      "_model_module_version": "1.2.0",
      "_model_name": "LayoutModel",
      "_view_count": null,
      "_view_module": "@jupyter-widgets/base",
      "_view_module_version": "1.2.0",
      "_view_name": "LayoutView",
      "align_content": null,
      "align_items": null,
      "align_self": null,
      "border": null,
      "bottom": null,
      "display": null,
      "flex": null,
      "flex_flow": null,
      "grid_area": null,
      "grid_auto_columns": null,
      "grid_auto_flow": null,
      "grid_auto_rows": null,
      "grid_column": null,
      "grid_gap": null,
      "grid_row": null,
      "grid_template_areas": null,
      "grid_template_columns": null,
      "grid_template_rows": null,
      "height": null,
      "justify_content": null,
      "justify_items": null,
      "left": null,
      "margin": null,
      "max_height": null,
      "max_width": null,
      "min_height": null,
      "min_width": null,
      "object_fit": null,
      "object_position": null,
      "order": null,
      "overflow": null,
      "overflow_x": null,
      "overflow_y": null,
      "padding": null,
      "right": null,
      "top": null,
      "visibility": null,
      "width": null
     }
    },
    "6ef0bdbf24db45f187dd7149590222f9": {
     "model_module": "@jupyter-widgets/controls",
     "model_module_version": "1.5.0",
     "model_name": "FloatProgressModel",
     "state": {
      "_dom_classes": [],
      "_model_module": "@jupyter-widgets/controls",
      "_model_module_version": "1.5.0",
      "_model_name": "FloatProgressModel",
      "_view_count": null,
      "_view_module": "@jupyter-widgets/controls",
      "_view_module_version": "1.5.0",
      "_view_name": "ProgressView",
      "bar_style": "success",
      "description": "",
      "description_tooltip": null,
      "layout": "IPY_MODEL_f9bb0132efbd401084643a7f05e35716",
      "max": 29,
      "min": 0,
      "orientation": "horizontal",
      "style": "IPY_MODEL_ab246e08cfdd49c1959f469718b38ffc",
      "value": 29
     }
    },
    "7b993c83870c433d9561c20ea577ee70": {
     "model_module": "@jupyter-widgets/base",
     "model_module_version": "1.2.0",
     "model_name": "LayoutModel",
     "state": {
      "_model_module": "@jupyter-widgets/base",
      "_model_module_version": "1.2.0",
      "_model_name": "LayoutModel",
      "_view_count": null,
      "_view_module": "@jupyter-widgets/base",
      "_view_module_version": "1.2.0",
      "_view_name": "LayoutView",
      "align_content": null,
      "align_items": null,
      "align_self": null,
      "border": null,
      "bottom": null,
      "display": null,
      "flex": null,
      "flex_flow": null,
      "grid_area": null,
      "grid_auto_columns": null,
      "grid_auto_flow": null,
      "grid_auto_rows": null,
      "grid_column": null,
      "grid_gap": null,
      "grid_row": null,
      "grid_template_areas": null,
      "grid_template_columns": null,
      "grid_template_rows": null,
      "height": null,
      "justify_content": null,
      "justify_items": null,
      "left": null,
      "margin": null,
      "max_height": null,
      "max_width": null,
      "min_height": null,
      "min_width": null,
      "object_fit": null,
      "object_position": null,
      "order": null,
      "overflow": null,
      "overflow_x": null,
      "overflow_y": null,
      "padding": null,
      "right": null,
      "top": null,
      "visibility": null,
      "width": null
     }
    },
    "8156bd50fc9544b9a4e54660645b7469": {
     "model_module": "@jupyter-widgets/controls",
     "model_module_version": "1.5.0",
     "model_name": "HBoxModel",
     "state": {
      "_dom_classes": [],
      "_model_module": "@jupyter-widgets/controls",
      "_model_module_version": "1.5.0",
      "_model_name": "HBoxModel",
      "_view_count": null,
      "_view_module": "@jupyter-widgets/controls",
      "_view_module_version": "1.5.0",
      "_view_name": "HBoxView",
      "box_style": "",
      "children": [
       "IPY_MODEL_f241db870ce94b7ca745292b88ea7822",
       "IPY_MODEL_6ef0bdbf24db45f187dd7149590222f9",
       "IPY_MODEL_1dca3b7202e84b81a2980ddbe89dca1e"
      ],
      "layout": "IPY_MODEL_c6b674c571d74937ad9bd72f0e8416a0"
     }
    },
    "87ffb2744e5f42449cbcff6ad73b3cff": {
     "model_module": "@jupyter-widgets/controls",
     "model_module_version": "1.5.0",
     "model_name": "DescriptionStyleModel",
     "state": {
      "_model_module": "@jupyter-widgets/controls",
      "_model_module_version": "1.5.0",
      "_model_name": "DescriptionStyleModel",
      "_view_count": null,
      "_view_module": "@jupyter-widgets/base",
      "_view_module_version": "1.2.0",
      "_view_name": "StyleView",
      "description_width": ""
     }
    },
    "8e6df12e0a5a417ab0d6824ff19ccd08": {
     "model_module": "@jupyter-widgets/controls",
     "model_module_version": "1.5.0",
     "model_name": "ProgressStyleModel",
     "state": {
      "_model_module": "@jupyter-widgets/controls",
      "_model_module_version": "1.5.0",
      "_model_name": "ProgressStyleModel",
      "_view_count": null,
      "_view_module": "@jupyter-widgets/base",
      "_view_module_version": "1.2.0",
      "_view_name": "StyleView",
      "bar_color": null,
      "description_width": ""
     }
    },
    "8f350869481441c4aa15c06b82374c53": {
     "model_module": "@jupyter-widgets/controls",
     "model_module_version": "1.5.0",
     "model_name": "DescriptionStyleModel",
     "state": {
      "_model_module": "@jupyter-widgets/controls",
      "_model_module_version": "1.5.0",
      "_model_name": "DescriptionStyleModel",
      "_view_count": null,
      "_view_module": "@jupyter-widgets/base",
      "_view_module_version": "1.2.0",
      "_view_name": "StyleView",
      "description_width": ""
     }
    },
    "8fe5a939eefd42979c60861ddacef626": {
     "model_module": "@jupyter-widgets/base",
     "model_module_version": "1.2.0",
     "model_name": "LayoutModel",
     "state": {
      "_model_module": "@jupyter-widgets/base",
      "_model_module_version": "1.2.0",
      "_model_name": "LayoutModel",
      "_view_count": null,
      "_view_module": "@jupyter-widgets/base",
      "_view_module_version": "1.2.0",
      "_view_name": "LayoutView",
      "align_content": null,
      "align_items": null,
      "align_self": null,
      "border": null,
      "bottom": null,
      "display": null,
      "flex": null,
      "flex_flow": null,
      "grid_area": null,
      "grid_auto_columns": null,
      "grid_auto_flow": null,
      "grid_auto_rows": null,
      "grid_column": null,
      "grid_gap": null,
      "grid_row": null,
      "grid_template_areas": null,
      "grid_template_columns": null,
      "grid_template_rows": null,
      "height": null,
      "justify_content": null,
      "justify_items": null,
      "left": null,
      "margin": null,
      "max_height": null,
      "max_width": null,
      "min_height": null,
      "min_width": null,
      "object_fit": null,
      "object_position": null,
      "order": null,
      "overflow": null,
      "overflow_x": null,
      "overflow_y": null,
      "padding": null,
      "right": null,
      "top": null,
      "visibility": null,
      "width": null
     }
    },
    "93ef353467164642897b45b3ea32a030": {
     "model_module": "@jupyter-widgets/controls",
     "model_module_version": "1.5.0",
     "model_name": "DescriptionStyleModel",
     "state": {
      "_model_module": "@jupyter-widgets/controls",
      "_model_module_version": "1.5.0",
      "_model_name": "DescriptionStyleModel",
      "_view_count": null,
      "_view_module": "@jupyter-widgets/base",
      "_view_module_version": "1.2.0",
      "_view_name": "StyleView",
      "description_width": ""
     }
    },
    "9696d331dfc74e389f94353fc93fd451": {
     "model_module": "@jupyter-widgets/base",
     "model_module_version": "1.2.0",
     "model_name": "LayoutModel",
     "state": {
      "_model_module": "@jupyter-widgets/base",
      "_model_module_version": "1.2.0",
      "_model_name": "LayoutModel",
      "_view_count": null,
      "_view_module": "@jupyter-widgets/base",
      "_view_module_version": "1.2.0",
      "_view_name": "LayoutView",
      "align_content": null,
      "align_items": null,
      "align_self": null,
      "border": null,
      "bottom": null,
      "display": null,
      "flex": null,
      "flex_flow": null,
      "grid_area": null,
      "grid_auto_columns": null,
      "grid_auto_flow": null,
      "grid_auto_rows": null,
      "grid_column": null,
      "grid_gap": null,
      "grid_row": null,
      "grid_template_areas": null,
      "grid_template_columns": null,
      "grid_template_rows": null,
      "height": null,
      "justify_content": null,
      "justify_items": null,
      "left": null,
      "margin": null,
      "max_height": null,
      "max_width": null,
      "min_height": null,
      "min_width": null,
      "object_fit": null,
      "object_position": null,
      "order": null,
      "overflow": null,
      "overflow_x": null,
      "overflow_y": null,
      "padding": null,
      "right": null,
      "top": null,
      "visibility": null,
      "width": null
     }
    },
    "9743f67331e545fe983f5734f54a3f9a": {
     "model_module": "@jupyter-widgets/base",
     "model_module_version": "1.2.0",
     "model_name": "LayoutModel",
     "state": {
      "_model_module": "@jupyter-widgets/base",
      "_model_module_version": "1.2.0",
      "_model_name": "LayoutModel",
      "_view_count": null,
      "_view_module": "@jupyter-widgets/base",
      "_view_module_version": "1.2.0",
      "_view_name": "LayoutView",
      "align_content": null,
      "align_items": null,
      "align_self": null,
      "border": null,
      "bottom": null,
      "display": null,
      "flex": null,
      "flex_flow": null,
      "grid_area": null,
      "grid_auto_columns": null,
      "grid_auto_flow": null,
      "grid_auto_rows": null,
      "grid_column": null,
      "grid_gap": null,
      "grid_row": null,
      "grid_template_areas": null,
      "grid_template_columns": null,
      "grid_template_rows": null,
      "height": null,
      "justify_content": null,
      "justify_items": null,
      "left": null,
      "margin": null,
      "max_height": null,
      "max_width": null,
      "min_height": null,
      "min_width": null,
      "object_fit": null,
      "object_position": null,
      "order": null,
      "overflow": null,
      "overflow_x": null,
      "overflow_y": null,
      "padding": null,
      "right": null,
      "top": null,
      "visibility": null,
      "width": null
     }
    },
    "97fcfb93cb6b4688b9f3244f03ce559f": {
     "model_module": "@jupyter-widgets/controls",
     "model_module_version": "1.5.0",
     "model_name": "FloatProgressModel",
     "state": {
      "_dom_classes": [],
      "_model_module": "@jupyter-widgets/controls",
      "_model_module_version": "1.5.0",
      "_model_name": "FloatProgressModel",
      "_view_count": null,
      "_view_module": "@jupyter-widgets/controls",
      "_view_module_version": "1.5.0",
      "_view_name": "ProgressView",
      "bar_style": "success",
      "description": "",
      "description_tooltip": null,
      "layout": "IPY_MODEL_9696d331dfc74e389f94353fc93fd451",
      "max": 570,
      "min": 0,
      "orientation": "horizontal",
      "style": "IPY_MODEL_e2e5cf3840da499aa544756338533471",
      "value": 570
     }
    },
    "a0e6519400c546e6a11768cce02b8cb1": {
     "model_module": "@jupyter-widgets/base",
     "model_module_version": "1.2.0",
     "model_name": "LayoutModel",
     "state": {
      "_model_module": "@jupyter-widgets/base",
      "_model_module_version": "1.2.0",
      "_model_name": "LayoutModel",
      "_view_count": null,
      "_view_module": "@jupyter-widgets/base",
      "_view_module_version": "1.2.0",
      "_view_name": "LayoutView",
      "align_content": null,
      "align_items": null,
      "align_self": null,
      "border": null,
      "bottom": null,
      "display": null,
      "flex": null,
      "flex_flow": null,
      "grid_area": null,
      "grid_auto_columns": null,
      "grid_auto_flow": null,
      "grid_auto_rows": null,
      "grid_column": null,
      "grid_gap": null,
      "grid_row": null,
      "grid_template_areas": null,
      "grid_template_columns": null,
      "grid_template_rows": null,
      "height": null,
      "justify_content": null,
      "justify_items": null,
      "left": null,
      "margin": null,
      "max_height": null,
      "max_width": null,
      "min_height": null,
      "min_width": null,
      "object_fit": null,
      "object_position": null,
      "order": null,
      "overflow": null,
      "overflow_x": null,
      "overflow_y": null,
      "padding": null,
      "right": null,
      "top": null,
      "visibility": null,
      "width": null
     }
    },
    "a12d6056a45342129d0e28c0aaac0a16": {
     "model_module": "@jupyter-widgets/base",
     "model_module_version": "1.2.0",
     "model_name": "LayoutModel",
     "state": {
      "_model_module": "@jupyter-widgets/base",
      "_model_module_version": "1.2.0",
      "_model_name": "LayoutModel",
      "_view_count": null,
      "_view_module": "@jupyter-widgets/base",
      "_view_module_version": "1.2.0",
      "_view_name": "LayoutView",
      "align_content": null,
      "align_items": null,
      "align_self": null,
      "border": null,
      "bottom": null,
      "display": null,
      "flex": null,
      "flex_flow": null,
      "grid_area": null,
      "grid_auto_columns": null,
      "grid_auto_flow": null,
      "grid_auto_rows": null,
      "grid_column": null,
      "grid_gap": null,
      "grid_row": null,
      "grid_template_areas": null,
      "grid_template_columns": null,
      "grid_template_rows": null,
      "height": null,
      "justify_content": null,
      "justify_items": null,
      "left": null,
      "margin": null,
      "max_height": null,
      "max_width": null,
      "min_height": null,
      "min_width": null,
      "object_fit": null,
      "object_position": null,
      "order": null,
      "overflow": null,
      "overflow_x": null,
      "overflow_y": null,
      "padding": null,
      "right": null,
      "top": null,
      "visibility": null,
      "width": null
     }
    },
    "a47531f284ee4cc29c60ad49f3a9ee46": {
     "model_module": "@jupyter-widgets/base",
     "model_module_version": "1.2.0",
     "model_name": "LayoutModel",
     "state": {
      "_model_module": "@jupyter-widgets/base",
      "_model_module_version": "1.2.0",
      "_model_name": "LayoutModel",
      "_view_count": null,
      "_view_module": "@jupyter-widgets/base",
      "_view_module_version": "1.2.0",
      "_view_name": "LayoutView",
      "align_content": null,
      "align_items": null,
      "align_self": null,
      "border": null,
      "bottom": null,
      "display": null,
      "flex": null,
      "flex_flow": null,
      "grid_area": null,
      "grid_auto_columns": null,
      "grid_auto_flow": null,
      "grid_auto_rows": null,
      "grid_column": null,
      "grid_gap": null,
      "grid_row": null,
      "grid_template_areas": null,
      "grid_template_columns": null,
      "grid_template_rows": null,
      "height": null,
      "justify_content": null,
      "justify_items": null,
      "left": null,
      "margin": null,
      "max_height": null,
      "max_width": null,
      "min_height": null,
      "min_width": null,
      "object_fit": null,
      "object_position": null,
      "order": null,
      "overflow": null,
      "overflow_x": null,
      "overflow_y": null,
      "padding": null,
      "right": null,
      "top": null,
      "visibility": null,
      "width": null
     }
    },
    "a4e4db4ccb14400e968c4e6d76e73ab3": {
     "model_module": "@jupyter-widgets/base",
     "model_module_version": "1.2.0",
     "model_name": "LayoutModel",
     "state": {
      "_model_module": "@jupyter-widgets/base",
      "_model_module_version": "1.2.0",
      "_model_name": "LayoutModel",
      "_view_count": null,
      "_view_module": "@jupyter-widgets/base",
      "_view_module_version": "1.2.0",
      "_view_name": "LayoutView",
      "align_content": null,
      "align_items": null,
      "align_self": null,
      "border": null,
      "bottom": null,
      "display": null,
      "flex": null,
      "flex_flow": null,
      "grid_area": null,
      "grid_auto_columns": null,
      "grid_auto_flow": null,
      "grid_auto_rows": null,
      "grid_column": null,
      "grid_gap": null,
      "grid_row": null,
      "grid_template_areas": null,
      "grid_template_columns": null,
      "grid_template_rows": null,
      "height": null,
      "justify_content": null,
      "justify_items": null,
      "left": null,
      "margin": null,
      "max_height": null,
      "max_width": null,
      "min_height": null,
      "min_width": null,
      "object_fit": null,
      "object_position": null,
      "order": null,
      "overflow": null,
      "overflow_x": null,
      "overflow_y": null,
      "padding": null,
      "right": null,
      "top": null,
      "visibility": null,
      "width": null
     }
    },
    "a781004b53a048a19c0519fa1a953d01": {
     "model_module": "@jupyter-widgets/base",
     "model_module_version": "1.2.0",
     "model_name": "LayoutModel",
     "state": {
      "_model_module": "@jupyter-widgets/base",
      "_model_module_version": "1.2.0",
      "_model_name": "LayoutModel",
      "_view_count": null,
      "_view_module": "@jupyter-widgets/base",
      "_view_module_version": "1.2.0",
      "_view_name": "LayoutView",
      "align_content": null,
      "align_items": null,
      "align_self": null,
      "border": null,
      "bottom": null,
      "display": null,
      "flex": null,
      "flex_flow": null,
      "grid_area": null,
      "grid_auto_columns": null,
      "grid_auto_flow": null,
      "grid_auto_rows": null,
      "grid_column": null,
      "grid_gap": null,
      "grid_row": null,
      "grid_template_areas": null,
      "grid_template_columns": null,
      "grid_template_rows": null,
      "height": null,
      "justify_content": null,
      "justify_items": null,
      "left": null,
      "margin": null,
      "max_height": null,
      "max_width": null,
      "min_height": null,
      "min_width": null,
      "object_fit": null,
      "object_position": null,
      "order": null,
      "overflow": null,
      "overflow_x": null,
      "overflow_y": null,
      "padding": null,
      "right": null,
      "top": null,
      "visibility": null,
      "width": null
     }
    },
    "a7a38916688b4fe9b834ff2770504802": {
     "model_module": "@jupyter-widgets/base",
     "model_module_version": "1.2.0",
     "model_name": "LayoutModel",
     "state": {
      "_model_module": "@jupyter-widgets/base",
      "_model_module_version": "1.2.0",
      "_model_name": "LayoutModel",
      "_view_count": null,
      "_view_module": "@jupyter-widgets/base",
      "_view_module_version": "1.2.0",
      "_view_name": "LayoutView",
      "align_content": null,
      "align_items": null,
      "align_self": null,
      "border": null,
      "bottom": null,
      "display": null,
      "flex": null,
      "flex_flow": null,
      "grid_area": null,
      "grid_auto_columns": null,
      "grid_auto_flow": null,
      "grid_auto_rows": null,
      "grid_column": null,
      "grid_gap": null,
      "grid_row": null,
      "grid_template_areas": null,
      "grid_template_columns": null,
      "grid_template_rows": null,
      "height": null,
      "justify_content": null,
      "justify_items": null,
      "left": null,
      "margin": null,
      "max_height": null,
      "max_width": null,
      "min_height": null,
      "min_width": null,
      "object_fit": null,
      "object_position": null,
      "order": null,
      "overflow": null,
      "overflow_x": null,
      "overflow_y": null,
      "padding": null,
      "right": null,
      "top": null,
      "visibility": null,
      "width": null
     }
    },
    "aa890928f3104f42bb73be7ff433017d": {
     "model_module": "@jupyter-widgets/controls",
     "model_module_version": "1.5.0",
     "model_name": "DescriptionStyleModel",
     "state": {
      "_model_module": "@jupyter-widgets/controls",
      "_model_module_version": "1.5.0",
      "_model_name": "DescriptionStyleModel",
      "_view_count": null,
      "_view_module": "@jupyter-widgets/base",
      "_view_module_version": "1.2.0",
      "_view_name": "StyleView",
      "description_width": ""
     }
    },
    "ab246e08cfdd49c1959f469718b38ffc": {
     "model_module": "@jupyter-widgets/controls",
     "model_module_version": "1.5.0",
     "model_name": "ProgressStyleModel",
     "state": {
      "_model_module": "@jupyter-widgets/controls",
      "_model_module_version": "1.5.0",
      "_model_name": "ProgressStyleModel",
      "_view_count": null,
      "_view_module": "@jupyter-widgets/base",
      "_view_module_version": "1.2.0",
      "_view_name": "StyleView",
      "bar_color": null,
      "description_width": ""
     }
    },
    "b4e879949e164e0294003e2dfd1855e2": {
     "model_module": "@jupyter-widgets/controls",
     "model_module_version": "1.5.0",
     "model_name": "FloatProgressModel",
     "state": {
      "_dom_classes": [],
      "_model_module": "@jupyter-widgets/controls",
      "_model_module_version": "1.5.0",
      "_model_name": "FloatProgressModel",
      "_view_count": null,
      "_view_module": "@jupyter-widgets/controls",
      "_view_module_version": "1.5.0",
      "_view_name": "ProgressView",
      "bar_style": "success",
      "description": "",
      "description_tooltip": null,
      "layout": "IPY_MODEL_bece576959fd4985b9a1218862245bfd",
      "max": 213450,
      "min": 0,
      "orientation": "horizontal",
      "style": "IPY_MODEL_64489ef30b194b1aa35a6af0492b194e",
      "value": 213450
     }
    },
    "bece576959fd4985b9a1218862245bfd": {
     "model_module": "@jupyter-widgets/base",
     "model_module_version": "1.2.0",
     "model_name": "LayoutModel",
     "state": {
      "_model_module": "@jupyter-widgets/base",
      "_model_module_version": "1.2.0",
      "_model_name": "LayoutModel",
      "_view_count": null,
      "_view_module": "@jupyter-widgets/base",
      "_view_module_version": "1.2.0",
      "_view_name": "LayoutView",
      "align_content": null,
      "align_items": null,
      "align_self": null,
      "border": null,
      "bottom": null,
      "display": null,
      "flex": null,
      "flex_flow": null,
      "grid_area": null,
      "grid_auto_columns": null,
      "grid_auto_flow": null,
      "grid_auto_rows": null,
      "grid_column": null,
      "grid_gap": null,
      "grid_row": null,
      "grid_template_areas": null,
      "grid_template_columns": null,
      "grid_template_rows": null,
      "height": null,
      "justify_content": null,
      "justify_items": null,
      "left": null,
      "margin": null,
      "max_height": null,
      "max_width": null,
      "min_height": null,
      "min_width": null,
      "object_fit": null,
      "object_position": null,
      "order": null,
      "overflow": null,
      "overflow_x": null,
      "overflow_y": null,
      "padding": null,
      "right": null,
      "top": null,
      "visibility": null,
      "width": null
     }
    },
    "c08dfbdefe3b4ff6a08b16671d3ea8e5": {
     "model_module": "@jupyter-widgets/base",
     "model_module_version": "1.2.0",
     "model_name": "LayoutModel",
     "state": {
      "_model_module": "@jupyter-widgets/base",
      "_model_module_version": "1.2.0",
      "_model_name": "LayoutModel",
      "_view_count": null,
      "_view_module": "@jupyter-widgets/base",
      "_view_module_version": "1.2.0",
      "_view_name": "LayoutView",
      "align_content": null,
      "align_items": null,
      "align_self": null,
      "border": null,
      "bottom": null,
      "display": null,
      "flex": null,
      "flex_flow": null,
      "grid_area": null,
      "grid_auto_columns": null,
      "grid_auto_flow": null,
      "grid_auto_rows": null,
      "grid_column": null,
      "grid_gap": null,
      "grid_row": null,
      "grid_template_areas": null,
      "grid_template_columns": null,
      "grid_template_rows": null,
      "height": null,
      "justify_content": null,
      "justify_items": null,
      "left": null,
      "margin": null,
      "max_height": null,
      "max_width": null,
      "min_height": null,
      "min_width": null,
      "object_fit": null,
      "object_position": null,
      "order": null,
      "overflow": null,
      "overflow_x": null,
      "overflow_y": null,
      "padding": null,
      "right": null,
      "top": null,
      "visibility": null,
      "width": null
     }
    },
    "c6b674c571d74937ad9bd72f0e8416a0": {
     "model_module": "@jupyter-widgets/base",
     "model_module_version": "1.2.0",
     "model_name": "LayoutModel",
     "state": {
      "_model_module": "@jupyter-widgets/base",
      "_model_module_version": "1.2.0",
      "_model_name": "LayoutModel",
      "_view_count": null,
      "_view_module": "@jupyter-widgets/base",
      "_view_module_version": "1.2.0",
      "_view_name": "LayoutView",
      "align_content": null,
      "align_items": null,
      "align_self": null,
      "border": null,
      "bottom": null,
      "display": null,
      "flex": null,
      "flex_flow": null,
      "grid_area": null,
      "grid_auto_columns": null,
      "grid_auto_flow": null,
      "grid_auto_rows": null,
      "grid_column": null,
      "grid_gap": null,
      "grid_row": null,
      "grid_template_areas": null,
      "grid_template_columns": null,
      "grid_template_rows": null,
      "height": null,
      "justify_content": null,
      "justify_items": null,
      "left": null,
      "margin": null,
      "max_height": null,
      "max_width": null,
      "min_height": null,
      "min_width": null,
      "object_fit": null,
      "object_position": null,
      "order": null,
      "overflow": null,
      "overflow_x": null,
      "overflow_y": null,
      "padding": null,
      "right": null,
      "top": null,
      "visibility": null,
      "width": null
     }
    },
    "ccad7cc5769b4375aeb4b8b15897071d": {
     "model_module": "@jupyter-widgets/controls",
     "model_module_version": "1.5.0",
     "model_name": "HBoxModel",
     "state": {
      "_dom_classes": [],
      "_model_module": "@jupyter-widgets/controls",
      "_model_module_version": "1.5.0",
      "_model_name": "HBoxModel",
      "_view_count": null,
      "_view_module": "@jupyter-widgets/controls",
      "_view_module_version": "1.5.0",
      "_view_name": "HBoxView",
      "box_style": "",
      "children": [
       "IPY_MODEL_64bcacefba21432cb4251ee41a16a655",
       "IPY_MODEL_f897fdcb8b6b425a81e0aabe24d62f47",
       "IPY_MODEL_d24c5629f8774e079610e5d5f3a3bbe5"
      ],
      "layout": "IPY_MODEL_3eff5861102046089bb1bd4721b3cde6"
     }
    },
    "d24c5629f8774e079610e5d5f3a3bbe5": {
     "model_module": "@jupyter-widgets/controls",
     "model_module_version": "1.5.0",
     "model_name": "HTMLModel",
     "state": {
      "_dom_classes": [],
      "_model_module": "@jupyter-widgets/controls",
      "_model_module_version": "1.5.0",
      "_model_name": "HTMLModel",
      "_view_count": null,
      "_view_module": "@jupyter-widgets/controls",
      "_view_module_version": "1.5.0",
      "_view_name": "HTMLView",
      "description": "",
      "description_tooltip": null,
      "layout": "IPY_MODEL_9743f67331e545fe983f5734f54a3f9a",
      "placeholder": "​",
      "style": "IPY_MODEL_09081b4475604f38acf08dae4457deb5",
      "value": " 436k/436k [00:00&lt;00:00, 308kB/s]"
     }
    },
    "da3cddd8a9e34ea68164e7166396e727": {
     "model_module": "@jupyter-widgets/controls",
     "model_module_version": "1.5.0",
     "model_name": "DescriptionStyleModel",
     "state": {
      "_model_module": "@jupyter-widgets/controls",
      "_model_module_version": "1.5.0",
      "_model_name": "DescriptionStyleModel",
      "_view_count": null,
      "_view_module": "@jupyter-widgets/base",
      "_view_module_version": "1.2.0",
      "_view_name": "StyleView",
      "description_width": ""
     }
    },
    "e2e5cf3840da499aa544756338533471": {
     "model_module": "@jupyter-widgets/controls",
     "model_module_version": "1.5.0",
     "model_name": "ProgressStyleModel",
     "state": {
      "_model_module": "@jupyter-widgets/controls",
      "_model_module_version": "1.5.0",
      "_model_name": "ProgressStyleModel",
      "_view_count": null,
      "_view_module": "@jupyter-widgets/base",
      "_view_module_version": "1.2.0",
      "_view_name": "StyleView",
      "bar_color": null,
      "description_width": ""
     }
    },
    "e3080a2834104f4cbd2d2b8be0e5a2c7": {
     "model_module": "@jupyter-widgets/controls",
     "model_module_version": "1.5.0",
     "model_name": "DescriptionStyleModel",
     "state": {
      "_model_module": "@jupyter-widgets/controls",
      "_model_module_version": "1.5.0",
      "_model_name": "DescriptionStyleModel",
      "_view_count": null,
      "_view_module": "@jupyter-widgets/base",
      "_view_module_version": "1.2.0",
      "_view_name": "StyleView",
      "description_width": ""
     }
    },
    "f241db870ce94b7ca745292b88ea7822": {
     "model_module": "@jupyter-widgets/controls",
     "model_module_version": "1.5.0",
     "model_name": "HTMLModel",
     "state": {
      "_dom_classes": [],
      "_model_module": "@jupyter-widgets/controls",
      "_model_module_version": "1.5.0",
      "_model_name": "HTMLModel",
      "_view_count": null,
      "_view_module": "@jupyter-widgets/controls",
      "_view_module_version": "1.5.0",
      "_view_name": "HTMLView",
      "description": "",
      "description_tooltip": null,
      "layout": "IPY_MODEL_618e3fd2281a42beb0a5fc53e02a3aff",
      "placeholder": "​",
      "style": "IPY_MODEL_8f350869481441c4aa15c06b82374c53",
      "value": "Downloading: 100%"
     }
    },
    "f897fdcb8b6b425a81e0aabe24d62f47": {
     "model_module": "@jupyter-widgets/controls",
     "model_module_version": "1.5.0",
     "model_name": "FloatProgressModel",
     "state": {
      "_dom_classes": [],
      "_model_module": "@jupyter-widgets/controls",
      "_model_module_version": "1.5.0",
      "_model_name": "FloatProgressModel",
      "_view_count": null,
      "_view_module": "@jupyter-widgets/controls",
      "_view_module_version": "1.5.0",
      "_view_name": "ProgressView",
      "bar_style": "success",
      "description": "",
      "description_tooltip": null,
      "layout": "IPY_MODEL_52bae39a5f61434b97a62996372d4627",
      "max": 435797,
      "min": 0,
      "orientation": "horizontal",
      "style": "IPY_MODEL_0e96e2ca451f40048306cf1d3c534516",
      "value": 435797
     }
    },
    "f9bb0132efbd401084643a7f05e35716": {
     "model_module": "@jupyter-widgets/base",
     "model_module_version": "1.2.0",
     "model_name": "LayoutModel",
     "state": {
      "_model_module": "@jupyter-widgets/base",
      "_model_module_version": "1.2.0",
      "_model_name": "LayoutModel",
      "_view_count": null,
      "_view_module": "@jupyter-widgets/base",
      "_view_module_version": "1.2.0",
      "_view_name": "LayoutView",
      "align_content": null,
      "align_items": null,
      "align_self": null,
      "border": null,
      "bottom": null,
      "display": null,
      "flex": null,
      "flex_flow": null,
      "grid_area": null,
      "grid_auto_columns": null,
      "grid_auto_flow": null,
      "grid_auto_rows": null,
      "grid_column": null,
      "grid_gap": null,
      "grid_row": null,
      "grid_template_areas": null,
      "grid_template_columns": null,
      "grid_template_rows": null,
      "height": null,
      "justify_content": null,
      "justify_items": null,
      "left": null,
      "margin": null,
      "max_height": null,
      "max_width": null,
      "min_height": null,
      "min_width": null,
      "object_fit": null,
      "object_position": null,
      "order": null,
      "overflow": null,
      "overflow_x": null,
      "overflow_y": null,
      "padding": null,
      "right": null,
      "top": null,
      "visibility": null,
      "width": null
     }
    }
   }
  }
 },
 "nbformat": 4,
 "nbformat_minor": 4
}
